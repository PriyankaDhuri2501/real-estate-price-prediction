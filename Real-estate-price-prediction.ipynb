{
 "cells": [
  {
   "cell_type": "markdown",
   "id": "f05f0f89-01c3-4667-80ff-ab815243f26a",
   "metadata": {},
   "source": [
    "<h3 style=\"font-size: 30px;\">Data Science Regression Project: Predicting Home Prices in Banglore</h3>"
   ]
  },
  {
   "cell_type": "code",
   "execution_count": 7,
   "id": "85898c81-f49f-43bf-9002-512f5caf78c0",
   "metadata": {},
   "outputs": [
    {
     "name": "stdout",
     "output_type": "stream",
     "text": [
      "Requirement already satisfied: pandas in c:\\users\\manvi\\appdata\\local\\programs\\python\\python313\\lib\\site-packages (2.2.3)\n",
      "Requirement already satisfied: matplotlib in c:\\users\\manvi\\appdata\\local\\programs\\python\\python313\\lib\\site-packages (3.10.1)\n",
      "Requirement already satisfied: numpy in c:\\users\\manvi\\appdata\\local\\programs\\python\\python313\\lib\\site-packages (2.2.4)\n",
      "Requirement already satisfied: python-dateutil>=2.8.2 in c:\\users\\manvi\\appdata\\local\\programs\\python\\python313\\lib\\site-packages (from pandas) (2.9.0.post0)\n",
      "Requirement already satisfied: pytz>=2020.1 in c:\\users\\manvi\\appdata\\local\\programs\\python\\python313\\lib\\site-packages (from pandas) (2025.1)\n",
      "Requirement already satisfied: tzdata>=2022.7 in c:\\users\\manvi\\appdata\\local\\programs\\python\\python313\\lib\\site-packages (from pandas) (2025.1)\n",
      "Requirement already satisfied: contourpy>=1.0.1 in c:\\users\\manvi\\appdata\\local\\programs\\python\\python313\\lib\\site-packages (from matplotlib) (1.3.1)\n",
      "Requirement already satisfied: cycler>=0.10 in c:\\users\\manvi\\appdata\\local\\programs\\python\\python313\\lib\\site-packages (from matplotlib) (0.12.1)\n",
      "Requirement already satisfied: fonttools>=4.22.0 in c:\\users\\manvi\\appdata\\local\\programs\\python\\python313\\lib\\site-packages (from matplotlib) (4.56.0)\n",
      "Requirement already satisfied: kiwisolver>=1.3.1 in c:\\users\\manvi\\appdata\\local\\programs\\python\\python313\\lib\\site-packages (from matplotlib) (1.4.8)\n",
      "Requirement already satisfied: packaging>=20.0 in c:\\users\\manvi\\appdata\\local\\programs\\python\\python313\\lib\\site-packages (from matplotlib) (24.2)\n",
      "Requirement already satisfied: pillow>=8 in c:\\users\\manvi\\appdata\\local\\programs\\python\\python313\\lib\\site-packages (from matplotlib) (11.1.0)\n",
      "Requirement already satisfied: pyparsing>=2.3.1 in c:\\users\\manvi\\appdata\\local\\programs\\python\\python313\\lib\\site-packages (from matplotlib) (3.2.1)\n",
      "Requirement already satisfied: six>=1.5 in c:\\users\\manvi\\appdata\\local\\programs\\python\\python313\\lib\\site-packages (from python-dateutil>=2.8.2->pandas) (1.17.0)\n"
     ]
    },
    {
     "name": "stderr",
     "output_type": "stream",
     "text": [
      "\n",
      "[notice] A new release of pip is available: 25.0.1 -> 25.1.1\n",
      "[notice] To update, run: python.exe -m pip install --upgrade pip\n"
     ]
    }
   ],
   "source": [
    "!pip install pandas matplotlib numpy\n"
   ]
  },
  {
   "cell_type": "code",
   "execution_count": 8,
   "id": "86cf03cf-3011-4b4b-80b1-debf66803caf",
   "metadata": {},
   "outputs": [],
   "source": [
    "import pandas as pd\n",
    "import numpy as np\n",
    "from matplotlib import pyplot as plt\n",
    "%matplotlib inline \n",
    "import matplotlib\n",
    "matplotlib.rcParams[\"figure.figsize\"] = (20,10)"
   ]
  },
  {
   "cell_type": "markdown",
   "id": "e3547f94-3bce-4082-b660-c7a9b7e7f794",
   "metadata": {},
   "source": [
    "<h1 style=\"font-size: 25px;\">Data Loading</h1>"
   ]
  },
  {
   "cell_type": "code",
   "execution_count": 9,
   "id": "158c48d1-3086-40f0-af09-54030f7ef7f6",
   "metadata": {},
   "outputs": [
    {
     "name": "stdout",
     "output_type": "stream",
     "text": [
      "              area_type   availability                  location       size  \\\n",
      "0  Super built-up  Area         19-Dec  Electronic City Phase II      2 BHK   \n",
      "1            Plot  Area  Ready To Move          Chikka Tirupathi  4 Bedroom   \n",
      "2        Built-up  Area  Ready To Move               Uttarahalli      3 BHK   \n",
      "3  Super built-up  Area  Ready To Move        Lingadheeranahalli      3 BHK   \n",
      "4  Super built-up  Area  Ready To Move                  Kothanur      2 BHK   \n",
      "\n",
      "   society total_sqft  bath  balcony   price  \n",
      "0  Coomee        1056   2.0      1.0   39.07  \n",
      "1  Theanmp       2600   5.0      3.0  120.00  \n",
      "2      NaN       1440   2.0      3.0   62.00  \n",
      "3  Soiewre       1521   3.0      1.0   95.00  \n",
      "4      NaN       1200   2.0      1.0   51.00  \n"
     ]
    }
   ],
   "source": [
    "df1 = pd.read_csv(r\"C:\\Users\\manvi\\Downloads\\Bengaluru_House_Data.csv\")\n",
    "print(df1.head())"
   ]
  },
  {
   "cell_type": "code",
   "execution_count": 10,
   "id": "c35bc126-5c76-4e15-85ae-5577f869f3e9",
   "metadata": {},
   "outputs": [
    {
     "data": {
      "text/plain": [
       "(13320, 9)"
      ]
     },
     "execution_count": 10,
     "metadata": {},
     "output_type": "execute_result"
    }
   ],
   "source": [
    "df1.shape\n"
   ]
  },
  {
   "cell_type": "code",
   "execution_count": 11,
   "id": "63a8fa95-b8b6-4efc-836e-a425c4839cdf",
   "metadata": {},
   "outputs": [
    {
     "data": {
      "text/plain": [
       "area_type\n",
       "Built-up  Area          2418\n",
       "Carpet  Area              87\n",
       "Plot  Area              2025\n",
       "Super built-up  Area    8790\n",
       "Name: area_type, dtype: int64"
      ]
     },
     "execution_count": 11,
     "metadata": {},
     "output_type": "execute_result"
    }
   ],
   "source": [
    "df1.groupby('area_type')['area_type'].agg('count')"
   ]
  },
  {
   "cell_type": "code",
   "execution_count": 12,
   "id": "71fc5e0d-b1c1-4520-8e89-a8938f8cd01b",
   "metadata": {},
   "outputs": [
    {
     "data": {
      "text/html": [
       "<div>\n",
       "<style scoped>\n",
       "    .dataframe tbody tr th:only-of-type {\n",
       "        vertical-align: middle;\n",
       "    }\n",
       "\n",
       "    .dataframe tbody tr th {\n",
       "        vertical-align: top;\n",
       "    }\n",
       "\n",
       "    .dataframe thead th {\n",
       "        text-align: right;\n",
       "    }\n",
       "</style>\n",
       "<table border=\"1\" class=\"dataframe\">\n",
       "  <thead>\n",
       "    <tr style=\"text-align: right;\">\n",
       "      <th></th>\n",
       "      <th>location</th>\n",
       "      <th>size</th>\n",
       "      <th>total_sqft</th>\n",
       "      <th>bath</th>\n",
       "      <th>price</th>\n",
       "    </tr>\n",
       "  </thead>\n",
       "  <tbody>\n",
       "    <tr>\n",
       "      <th>0</th>\n",
       "      <td>Electronic City Phase II</td>\n",
       "      <td>2 BHK</td>\n",
       "      <td>1056</td>\n",
       "      <td>2.0</td>\n",
       "      <td>39.07</td>\n",
       "    </tr>\n",
       "    <tr>\n",
       "      <th>1</th>\n",
       "      <td>Chikka Tirupathi</td>\n",
       "      <td>4 Bedroom</td>\n",
       "      <td>2600</td>\n",
       "      <td>5.0</td>\n",
       "      <td>120.00</td>\n",
       "    </tr>\n",
       "    <tr>\n",
       "      <th>2</th>\n",
       "      <td>Uttarahalli</td>\n",
       "      <td>3 BHK</td>\n",
       "      <td>1440</td>\n",
       "      <td>2.0</td>\n",
       "      <td>62.00</td>\n",
       "    </tr>\n",
       "    <tr>\n",
       "      <th>3</th>\n",
       "      <td>Lingadheeranahalli</td>\n",
       "      <td>3 BHK</td>\n",
       "      <td>1521</td>\n",
       "      <td>3.0</td>\n",
       "      <td>95.00</td>\n",
       "    </tr>\n",
       "    <tr>\n",
       "      <th>4</th>\n",
       "      <td>Kothanur</td>\n",
       "      <td>2 BHK</td>\n",
       "      <td>1200</td>\n",
       "      <td>2.0</td>\n",
       "      <td>51.00</td>\n",
       "    </tr>\n",
       "  </tbody>\n",
       "</table>\n",
       "</div>"
      ],
      "text/plain": [
       "                   location       size total_sqft  bath   price\n",
       "0  Electronic City Phase II      2 BHK       1056   2.0   39.07\n",
       "1          Chikka Tirupathi  4 Bedroom       2600   5.0  120.00\n",
       "2               Uttarahalli      3 BHK       1440   2.0   62.00\n",
       "3        Lingadheeranahalli      3 BHK       1521   3.0   95.00\n",
       "4                  Kothanur      2 BHK       1200   2.0   51.00"
      ]
     },
     "execution_count": 12,
     "metadata": {},
     "output_type": "execute_result"
    }
   ],
   "source": [
    "df2 = df1.drop(['area_type','society','balcony','availability'], axis='columns')\n",
    "df2.head()"
   ]
  },
  {
   "cell_type": "markdown",
   "id": "c28f995c-9adb-4d36-bbcf-c7a723252b34",
   "metadata": {},
   "source": [
    "<h1 style=\"font-size: 25px;\">Data Cleaning: Handle NA values</h3>"
   ]
  },
  {
   "cell_type": "code",
   "execution_count": 13,
   "id": "0c65b8f1-5e94-42f7-ac13-ead8f77bef13",
   "metadata": {},
   "outputs": [
    {
     "data": {
      "text/plain": [
       "location       1\n",
       "size          16\n",
       "total_sqft     0\n",
       "bath          73\n",
       "price          0\n",
       "dtype: int64"
      ]
     },
     "execution_count": 13,
     "metadata": {},
     "output_type": "execute_result"
    }
   ],
   "source": [
    "df2.isnull().sum()"
   ]
  },
  {
   "cell_type": "code",
   "execution_count": 14,
   "id": "9f3a3d51-7fac-4932-9caf-52872ec1ccd5",
   "metadata": {},
   "outputs": [
    {
     "data": {
      "text/plain": [
       "location      0\n",
       "size          0\n",
       "total_sqft    0\n",
       "bath          0\n",
       "price         0\n",
       "dtype: int64"
      ]
     },
     "execution_count": 14,
     "metadata": {},
     "output_type": "execute_result"
    }
   ],
   "source": [
    "df3 = df2.dropna()\n",
    "df3.isnull().sum()"
   ]
  },
  {
   "cell_type": "code",
   "execution_count": 15,
   "id": "56d6f720-f891-4078-a654-0f2d6da94390",
   "metadata": {},
   "outputs": [
    {
     "data": {
      "text/plain": [
       "array(['2 BHK', '4 Bedroom', '3 BHK', '4 BHK', '6 Bedroom', '3 Bedroom',\n",
       "       '1 BHK', '1 RK', '1 Bedroom', '8 Bedroom', '2 Bedroom',\n",
       "       '7 Bedroom', '5 BHK', '7 BHK', '6 BHK', '5 Bedroom', '11 BHK',\n",
       "       '9 BHK', '9 Bedroom', '27 BHK', '10 Bedroom', '11 Bedroom',\n",
       "       '10 BHK', '19 BHK', '16 BHK', '43 Bedroom', '14 BHK', '8 BHK',\n",
       "       '12 Bedroom', '13 BHK', '18 Bedroom'], dtype=object)"
      ]
     },
     "execution_count": 15,
     "metadata": {},
     "output_type": "execute_result"
    }
   ],
   "source": [
    "df3['size'].unique()"
   ]
  },
  {
   "cell_type": "markdown",
   "id": "4398d760-4de0-45a1-bde1-eacc13b11208",
   "metadata": {},
   "source": [
    "<h1 style=\"font-size: 25px;\">Feature Engineering - Add new feature(integer) for bhk (Bedrooms Hall Kitchen)</h1>"
   ]
  },
  {
   "cell_type": "code",
   "execution_count": 16,
   "id": "f5979e09-2c66-4d0e-925a-79186e8ca852",
   "metadata": {},
   "outputs": [
    {
     "name": "stderr",
     "output_type": "stream",
     "text": [
      "C:\\Users\\manvi\\AppData\\Local\\Temp\\ipykernel_9772\\4045510373.py:1: SettingWithCopyWarning: \n",
      "A value is trying to be set on a copy of a slice from a DataFrame.\n",
      "Try using .loc[row_indexer,col_indexer] = value instead\n",
      "\n",
      "See the caveats in the documentation: https://pandas.pydata.org/pandas-docs/stable/user_guide/indexing.html#returning-a-view-versus-a-copy\n",
      "  df3.loc[:, 'bhk'] = df3['size'].apply(lambda x: int(x.split(' ')[0]))\n"
     ]
    }
   ],
   "source": [
    "df3.loc[:, 'bhk'] = df3['size'].apply(lambda x: int(x.split(' ')[0]))"
   ]
  },
  {
   "cell_type": "code",
   "execution_count": 17,
   "id": "a6f3e82a-d4f4-4ee9-b5a5-28e9da9a0499",
   "metadata": {},
   "outputs": [
    {
     "data": {
      "text/html": [
       "<div>\n",
       "<style scoped>\n",
       "    .dataframe tbody tr th:only-of-type {\n",
       "        vertical-align: middle;\n",
       "    }\n",
       "\n",
       "    .dataframe tbody tr th {\n",
       "        vertical-align: top;\n",
       "    }\n",
       "\n",
       "    .dataframe thead th {\n",
       "        text-align: right;\n",
       "    }\n",
       "</style>\n",
       "<table border=\"1\" class=\"dataframe\">\n",
       "  <thead>\n",
       "    <tr style=\"text-align: right;\">\n",
       "      <th></th>\n",
       "      <th>location</th>\n",
       "      <th>size</th>\n",
       "      <th>total_sqft</th>\n",
       "      <th>bath</th>\n",
       "      <th>price</th>\n",
       "      <th>bhk</th>\n",
       "    </tr>\n",
       "  </thead>\n",
       "  <tbody>\n",
       "    <tr>\n",
       "      <th>0</th>\n",
       "      <td>Electronic City Phase II</td>\n",
       "      <td>2 BHK</td>\n",
       "      <td>1056</td>\n",
       "      <td>2.0</td>\n",
       "      <td>39.07</td>\n",
       "      <td>2</td>\n",
       "    </tr>\n",
       "    <tr>\n",
       "      <th>1</th>\n",
       "      <td>Chikka Tirupathi</td>\n",
       "      <td>4 Bedroom</td>\n",
       "      <td>2600</td>\n",
       "      <td>5.0</td>\n",
       "      <td>120.00</td>\n",
       "      <td>4</td>\n",
       "    </tr>\n",
       "    <tr>\n",
       "      <th>2</th>\n",
       "      <td>Uttarahalli</td>\n",
       "      <td>3 BHK</td>\n",
       "      <td>1440</td>\n",
       "      <td>2.0</td>\n",
       "      <td>62.00</td>\n",
       "      <td>3</td>\n",
       "    </tr>\n",
       "    <tr>\n",
       "      <th>3</th>\n",
       "      <td>Lingadheeranahalli</td>\n",
       "      <td>3 BHK</td>\n",
       "      <td>1521</td>\n",
       "      <td>3.0</td>\n",
       "      <td>95.00</td>\n",
       "      <td>3</td>\n",
       "    </tr>\n",
       "    <tr>\n",
       "      <th>4</th>\n",
       "      <td>Kothanur</td>\n",
       "      <td>2 BHK</td>\n",
       "      <td>1200</td>\n",
       "      <td>2.0</td>\n",
       "      <td>51.00</td>\n",
       "      <td>2</td>\n",
       "    </tr>\n",
       "  </tbody>\n",
       "</table>\n",
       "</div>"
      ],
      "text/plain": [
       "                   location       size total_sqft  bath   price  bhk\n",
       "0  Electronic City Phase II      2 BHK       1056   2.0   39.07    2\n",
       "1          Chikka Tirupathi  4 Bedroom       2600   5.0  120.00    4\n",
       "2               Uttarahalli      3 BHK       1440   2.0   62.00    3\n",
       "3        Lingadheeranahalli      3 BHK       1521   3.0   95.00    3\n",
       "4                  Kothanur      2 BHK       1200   2.0   51.00    2"
      ]
     },
     "execution_count": 17,
     "metadata": {},
     "output_type": "execute_result"
    }
   ],
   "source": [
    "df3.head()"
   ]
  },
  {
   "cell_type": "code",
   "execution_count": 18,
   "id": "493e35d3-d1fa-4408-acfb-aa20905927e2",
   "metadata": {},
   "outputs": [
    {
     "data": {
      "text/plain": [
       "array([ 2,  4,  3,  6,  1,  8,  7,  5, 11,  9, 27, 10, 19, 16, 43, 14, 12,\n",
       "       13, 18])"
      ]
     },
     "execution_count": 18,
     "metadata": {},
     "output_type": "execute_result"
    }
   ],
   "source": [
    "df3['bhk'].unique()"
   ]
  },
  {
   "cell_type": "code",
   "execution_count": 19,
   "id": "4b445b2a-7d5a-45d6-81d0-a732666e4e3e",
   "metadata": {},
   "outputs": [],
   "source": [
    "df3 = df3.drop('size', axis='columns')"
   ]
  },
  {
   "cell_type": "code",
   "execution_count": 20,
   "id": "8af64f5b-125a-4e47-a10c-d894a7763a80",
   "metadata": {},
   "outputs": [
    {
     "data": {
      "text/html": [
       "<div>\n",
       "<style scoped>\n",
       "    .dataframe tbody tr th:only-of-type {\n",
       "        vertical-align: middle;\n",
       "    }\n",
       "\n",
       "    .dataframe tbody tr th {\n",
       "        vertical-align: top;\n",
       "    }\n",
       "\n",
       "    .dataframe thead th {\n",
       "        text-align: right;\n",
       "    }\n",
       "</style>\n",
       "<table border=\"1\" class=\"dataframe\">\n",
       "  <thead>\n",
       "    <tr style=\"text-align: right;\">\n",
       "      <th></th>\n",
       "      <th>location</th>\n",
       "      <th>total_sqft</th>\n",
       "      <th>bath</th>\n",
       "      <th>price</th>\n",
       "      <th>bhk</th>\n",
       "    </tr>\n",
       "  </thead>\n",
       "  <tbody>\n",
       "    <tr>\n",
       "      <th>0</th>\n",
       "      <td>Electronic City Phase II</td>\n",
       "      <td>1056</td>\n",
       "      <td>2.0</td>\n",
       "      <td>39.07</td>\n",
       "      <td>2</td>\n",
       "    </tr>\n",
       "    <tr>\n",
       "      <th>1</th>\n",
       "      <td>Chikka Tirupathi</td>\n",
       "      <td>2600</td>\n",
       "      <td>5.0</td>\n",
       "      <td>120.00</td>\n",
       "      <td>4</td>\n",
       "    </tr>\n",
       "    <tr>\n",
       "      <th>2</th>\n",
       "      <td>Uttarahalli</td>\n",
       "      <td>1440</td>\n",
       "      <td>2.0</td>\n",
       "      <td>62.00</td>\n",
       "      <td>3</td>\n",
       "    </tr>\n",
       "    <tr>\n",
       "      <th>3</th>\n",
       "      <td>Lingadheeranahalli</td>\n",
       "      <td>1521</td>\n",
       "      <td>3.0</td>\n",
       "      <td>95.00</td>\n",
       "      <td>3</td>\n",
       "    </tr>\n",
       "    <tr>\n",
       "      <th>4</th>\n",
       "      <td>Kothanur</td>\n",
       "      <td>1200</td>\n",
       "      <td>2.0</td>\n",
       "      <td>51.00</td>\n",
       "      <td>2</td>\n",
       "    </tr>\n",
       "  </tbody>\n",
       "</table>\n",
       "</div>"
      ],
      "text/plain": [
       "                   location total_sqft  bath   price  bhk\n",
       "0  Electronic City Phase II       1056   2.0   39.07    2\n",
       "1          Chikka Tirupathi       2600   5.0  120.00    4\n",
       "2               Uttarahalli       1440   2.0   62.00    3\n",
       "3        Lingadheeranahalli       1521   3.0   95.00    3\n",
       "4                  Kothanur       1200   2.0   51.00    2"
      ]
     },
     "execution_count": 20,
     "metadata": {},
     "output_type": "execute_result"
    }
   ],
   "source": [
    "df3.head()"
   ]
  },
  {
   "cell_type": "code",
   "execution_count": 21,
   "id": "d55c4a61-c5f4-40a5-94f2-f34008208ab0",
   "metadata": {},
   "outputs": [
    {
     "data": {
      "text/html": [
       "<div>\n",
       "<style scoped>\n",
       "    .dataframe tbody tr th:only-of-type {\n",
       "        vertical-align: middle;\n",
       "    }\n",
       "\n",
       "    .dataframe tbody tr th {\n",
       "        vertical-align: top;\n",
       "    }\n",
       "\n",
       "    .dataframe thead th {\n",
       "        text-align: right;\n",
       "    }\n",
       "</style>\n",
       "<table border=\"1\" class=\"dataframe\">\n",
       "  <thead>\n",
       "    <tr style=\"text-align: right;\">\n",
       "      <th></th>\n",
       "      <th>location</th>\n",
       "      <th>total_sqft</th>\n",
       "      <th>bath</th>\n",
       "      <th>price</th>\n",
       "      <th>bhk</th>\n",
       "    </tr>\n",
       "  </thead>\n",
       "  <tbody>\n",
       "    <tr>\n",
       "      <th>1718</th>\n",
       "      <td>2Electronic City Phase II</td>\n",
       "      <td>8000</td>\n",
       "      <td>27.0</td>\n",
       "      <td>230.0</td>\n",
       "      <td>27</td>\n",
       "    </tr>\n",
       "    <tr>\n",
       "      <th>4684</th>\n",
       "      <td>Munnekollal</td>\n",
       "      <td>2400</td>\n",
       "      <td>40.0</td>\n",
       "      <td>660.0</td>\n",
       "      <td>43</td>\n",
       "    </tr>\n",
       "  </tbody>\n",
       "</table>\n",
       "</div>"
      ],
      "text/plain": [
       "                       location total_sqft  bath  price  bhk\n",
       "1718  2Electronic City Phase II       8000  27.0  230.0   27\n",
       "4684                Munnekollal       2400  40.0  660.0   43"
      ]
     },
     "execution_count": 21,
     "metadata": {},
     "output_type": "execute_result"
    }
   ],
   "source": [
    "df3[df3.bhk>20]"
   ]
  },
  {
   "cell_type": "code",
   "execution_count": 22,
   "id": "e8aa9799-012c-45f0-b45e-61c87148de70",
   "metadata": {},
   "outputs": [
    {
     "data": {
      "text/plain": [
       "array(['1056', '2600', '1440', ..., '1133 - 1384', '774', '4689'],\n",
       "      shape=(2067,), dtype=object)"
      ]
     },
     "execution_count": 22,
     "metadata": {},
     "output_type": "execute_result"
    }
   ],
   "source": [
    "df3.total_sqft.unique()"
   ]
  },
  {
   "cell_type": "code",
   "execution_count": 23,
   "id": "b5c980a1-afad-49b7-b6a2-30dc4bafffab",
   "metadata": {},
   "outputs": [],
   "source": [
    "def isFloat(x):\n",
    "    try:\n",
    "        float(x)\n",
    "    except:\n",
    "        return False\n",
    "    return True"
   ]
  },
  {
   "cell_type": "code",
   "execution_count": 24,
   "id": "23d2174d-bb27-4bce-adc9-5c9073026de9",
   "metadata": {},
   "outputs": [
    {
     "data": {
      "text/html": [
       "<div>\n",
       "<style scoped>\n",
       "    .dataframe tbody tr th:only-of-type {\n",
       "        vertical-align: middle;\n",
       "    }\n",
       "\n",
       "    .dataframe tbody tr th {\n",
       "        vertical-align: top;\n",
       "    }\n",
       "\n",
       "    .dataframe thead th {\n",
       "        text-align: right;\n",
       "    }\n",
       "</style>\n",
       "<table border=\"1\" class=\"dataframe\">\n",
       "  <thead>\n",
       "    <tr style=\"text-align: right;\">\n",
       "      <th></th>\n",
       "      <th>location</th>\n",
       "      <th>total_sqft</th>\n",
       "      <th>bath</th>\n",
       "      <th>price</th>\n",
       "      <th>bhk</th>\n",
       "    </tr>\n",
       "  </thead>\n",
       "  <tbody>\n",
       "    <tr>\n",
       "      <th>0</th>\n",
       "      <td>Electronic City Phase II</td>\n",
       "      <td>1056</td>\n",
       "      <td>2.0</td>\n",
       "      <td>39.07</td>\n",
       "      <td>2</td>\n",
       "    </tr>\n",
       "    <tr>\n",
       "      <th>1</th>\n",
       "      <td>Chikka Tirupathi</td>\n",
       "      <td>2600</td>\n",
       "      <td>5.0</td>\n",
       "      <td>120.00</td>\n",
       "      <td>4</td>\n",
       "    </tr>\n",
       "    <tr>\n",
       "      <th>2</th>\n",
       "      <td>Uttarahalli</td>\n",
       "      <td>1440</td>\n",
       "      <td>2.0</td>\n",
       "      <td>62.00</td>\n",
       "      <td>3</td>\n",
       "    </tr>\n",
       "    <tr>\n",
       "      <th>3</th>\n",
       "      <td>Lingadheeranahalli</td>\n",
       "      <td>1521</td>\n",
       "      <td>3.0</td>\n",
       "      <td>95.00</td>\n",
       "      <td>3</td>\n",
       "    </tr>\n",
       "    <tr>\n",
       "      <th>4</th>\n",
       "      <td>Kothanur</td>\n",
       "      <td>1200</td>\n",
       "      <td>2.0</td>\n",
       "      <td>51.00</td>\n",
       "      <td>2</td>\n",
       "    </tr>\n",
       "    <tr>\n",
       "      <th>...</th>\n",
       "      <td>...</td>\n",
       "      <td>...</td>\n",
       "      <td>...</td>\n",
       "      <td>...</td>\n",
       "      <td>...</td>\n",
       "    </tr>\n",
       "    <tr>\n",
       "      <th>13315</th>\n",
       "      <td>Whitefield</td>\n",
       "      <td>3453</td>\n",
       "      <td>4.0</td>\n",
       "      <td>231.00</td>\n",
       "      <td>5</td>\n",
       "    </tr>\n",
       "    <tr>\n",
       "      <th>13316</th>\n",
       "      <td>Richards Town</td>\n",
       "      <td>3600</td>\n",
       "      <td>5.0</td>\n",
       "      <td>400.00</td>\n",
       "      <td>4</td>\n",
       "    </tr>\n",
       "    <tr>\n",
       "      <th>13317</th>\n",
       "      <td>Raja Rajeshwari Nagar</td>\n",
       "      <td>1141</td>\n",
       "      <td>2.0</td>\n",
       "      <td>60.00</td>\n",
       "      <td>2</td>\n",
       "    </tr>\n",
       "    <tr>\n",
       "      <th>13318</th>\n",
       "      <td>Padmanabhanagar</td>\n",
       "      <td>4689</td>\n",
       "      <td>4.0</td>\n",
       "      <td>488.00</td>\n",
       "      <td>4</td>\n",
       "    </tr>\n",
       "    <tr>\n",
       "      <th>13319</th>\n",
       "      <td>Doddathoguru</td>\n",
       "      <td>550</td>\n",
       "      <td>1.0</td>\n",
       "      <td>17.00</td>\n",
       "      <td>1</td>\n",
       "    </tr>\n",
       "  </tbody>\n",
       "</table>\n",
       "<p>13056 rows × 5 columns</p>\n",
       "</div>"
      ],
      "text/plain": [
       "                       location total_sqft  bath   price  bhk\n",
       "0      Electronic City Phase II       1056   2.0   39.07    2\n",
       "1              Chikka Tirupathi       2600   5.0  120.00    4\n",
       "2                   Uttarahalli       1440   2.0   62.00    3\n",
       "3            Lingadheeranahalli       1521   3.0   95.00    3\n",
       "4                      Kothanur       1200   2.0   51.00    2\n",
       "...                         ...        ...   ...     ...  ...\n",
       "13315                Whitefield       3453   4.0  231.00    5\n",
       "13316             Richards Town       3600   5.0  400.00    4\n",
       "13317     Raja Rajeshwari Nagar       1141   2.0   60.00    2\n",
       "13318           Padmanabhanagar       4689   4.0  488.00    4\n",
       "13319              Doddathoguru        550   1.0   17.00    1\n",
       "\n",
       "[13056 rows x 5 columns]"
      ]
     },
     "execution_count": 24,
     "metadata": {},
     "output_type": "execute_result"
    }
   ],
   "source": [
    "df3[df3['total_sqft'].apply(isFloat)]"
   ]
  },
  {
   "cell_type": "code",
   "execution_count": 25,
   "id": "8d55ea7b-499b-4849-85e1-bdf323e81a08",
   "metadata": {},
   "outputs": [
    {
     "data": {
      "text/html": [
       "<div>\n",
       "<style scoped>\n",
       "    .dataframe tbody tr th:only-of-type {\n",
       "        vertical-align: middle;\n",
       "    }\n",
       "\n",
       "    .dataframe tbody tr th {\n",
       "        vertical-align: top;\n",
       "    }\n",
       "\n",
       "    .dataframe thead th {\n",
       "        text-align: right;\n",
       "    }\n",
       "</style>\n",
       "<table border=\"1\" class=\"dataframe\">\n",
       "  <thead>\n",
       "    <tr style=\"text-align: right;\">\n",
       "      <th></th>\n",
       "      <th>location</th>\n",
       "      <th>total_sqft</th>\n",
       "      <th>bath</th>\n",
       "      <th>price</th>\n",
       "      <th>bhk</th>\n",
       "    </tr>\n",
       "  </thead>\n",
       "  <tbody>\n",
       "    <tr>\n",
       "      <th>30</th>\n",
       "      <td>Yelahanka</td>\n",
       "      <td>2100 - 2850</td>\n",
       "      <td>4.0</td>\n",
       "      <td>186.000</td>\n",
       "      <td>4</td>\n",
       "    </tr>\n",
       "    <tr>\n",
       "      <th>122</th>\n",
       "      <td>Hebbal</td>\n",
       "      <td>3067 - 8156</td>\n",
       "      <td>4.0</td>\n",
       "      <td>477.000</td>\n",
       "      <td>4</td>\n",
       "    </tr>\n",
       "    <tr>\n",
       "      <th>137</th>\n",
       "      <td>8th Phase JP Nagar</td>\n",
       "      <td>1042 - 1105</td>\n",
       "      <td>2.0</td>\n",
       "      <td>54.005</td>\n",
       "      <td>2</td>\n",
       "    </tr>\n",
       "    <tr>\n",
       "      <th>165</th>\n",
       "      <td>Sarjapur</td>\n",
       "      <td>1145 - 1340</td>\n",
       "      <td>2.0</td>\n",
       "      <td>43.490</td>\n",
       "      <td>2</td>\n",
       "    </tr>\n",
       "    <tr>\n",
       "      <th>188</th>\n",
       "      <td>KR Puram</td>\n",
       "      <td>1015 - 1540</td>\n",
       "      <td>2.0</td>\n",
       "      <td>56.800</td>\n",
       "      <td>2</td>\n",
       "    </tr>\n",
       "    <tr>\n",
       "      <th>410</th>\n",
       "      <td>Kengeri</td>\n",
       "      <td>34.46Sq. Meter</td>\n",
       "      <td>1.0</td>\n",
       "      <td>18.500</td>\n",
       "      <td>1</td>\n",
       "    </tr>\n",
       "    <tr>\n",
       "      <th>549</th>\n",
       "      <td>Hennur Road</td>\n",
       "      <td>1195 - 1440</td>\n",
       "      <td>2.0</td>\n",
       "      <td>63.770</td>\n",
       "      <td>2</td>\n",
       "    </tr>\n",
       "    <tr>\n",
       "      <th>648</th>\n",
       "      <td>Arekere</td>\n",
       "      <td>4125Perch</td>\n",
       "      <td>9.0</td>\n",
       "      <td>265.000</td>\n",
       "      <td>9</td>\n",
       "    </tr>\n",
       "    <tr>\n",
       "      <th>661</th>\n",
       "      <td>Yelahanka</td>\n",
       "      <td>1120 - 1145</td>\n",
       "      <td>2.0</td>\n",
       "      <td>48.130</td>\n",
       "      <td>2</td>\n",
       "    </tr>\n",
       "    <tr>\n",
       "      <th>672</th>\n",
       "      <td>Bettahalsoor</td>\n",
       "      <td>3090 - 5002</td>\n",
       "      <td>4.0</td>\n",
       "      <td>445.000</td>\n",
       "      <td>4</td>\n",
       "    </tr>\n",
       "  </tbody>\n",
       "</table>\n",
       "</div>"
      ],
      "text/plain": [
       "               location      total_sqft  bath    price  bhk\n",
       "30            Yelahanka     2100 - 2850   4.0  186.000    4\n",
       "122              Hebbal     3067 - 8156   4.0  477.000    4\n",
       "137  8th Phase JP Nagar     1042 - 1105   2.0   54.005    2\n",
       "165            Sarjapur     1145 - 1340   2.0   43.490    2\n",
       "188            KR Puram     1015 - 1540   2.0   56.800    2\n",
       "410             Kengeri  34.46Sq. Meter   1.0   18.500    1\n",
       "549         Hennur Road     1195 - 1440   2.0   63.770    2\n",
       "648             Arekere       4125Perch   9.0  265.000    9\n",
       "661           Yelahanka     1120 - 1145   2.0   48.130    2\n",
       "672        Bettahalsoor     3090 - 5002   4.0  445.000    4"
      ]
     },
     "execution_count": 25,
     "metadata": {},
     "output_type": "execute_result"
    }
   ],
   "source": [
    "df3[~df3['total_sqft'].apply(isFloat)].head(10)\n"
   ]
  },
  {
   "cell_type": "code",
   "execution_count": 26,
   "id": "bcdb17e8-1dcd-42ec-8caf-fa80075e941f",
   "metadata": {},
   "outputs": [],
   "source": [
    "def convert_sqft_to_num(x):\n",
    "    tokens = x.split('-')\n",
    "    if len(tokens) == 2:\n",
    "        return (float(tokens[0])+float(tokens[1]))/2\n",
    "    try:\n",
    "        return float(x)\n",
    "    except:\n",
    "        return None"
   ]
  },
  {
   "cell_type": "code",
   "execution_count": 27,
   "id": "92fb050e-6591-4d28-9fb5-720582c119ca",
   "metadata": {},
   "outputs": [
    {
     "data": {
      "text/plain": [
       "2344.0"
      ]
     },
     "execution_count": 27,
     "metadata": {},
     "output_type": "execute_result"
    }
   ],
   "source": [
    "convert_sqft_to_num('2344')"
   ]
  },
  {
   "cell_type": "code",
   "execution_count": 28,
   "id": "e8b82e7f-3a60-462f-8c85-6c0cfffff10b",
   "metadata": {},
   "outputs": [
    {
     "data": {
      "text/plain": [
       "2475.0"
      ]
     },
     "execution_count": 28,
     "metadata": {},
     "output_type": "execute_result"
    }
   ],
   "source": [
    "convert_sqft_to_num('2100 - 2850') "
   ]
  },
  {
   "cell_type": "code",
   "execution_count": 29,
   "id": "0f534879-cf64-4235-8da5-1585bfab29ba",
   "metadata": {},
   "outputs": [],
   "source": [
    "df4 = df3.copy()"
   ]
  },
  {
   "cell_type": "code",
   "execution_count": 30,
   "id": "d2515e19-6594-48be-9256-a808bd3bbb20",
   "metadata": {},
   "outputs": [],
   "source": [
    "df4['total_sqft'] = df4['total_sqft'].apply(convert_sqft_to_num)"
   ]
  },
  {
   "cell_type": "code",
   "execution_count": 31,
   "id": "5267bf72-ee6a-4bd4-93a4-d082832dedb7",
   "metadata": {},
   "outputs": [
    {
     "data": {
      "text/html": [
       "<div>\n",
       "<style scoped>\n",
       "    .dataframe tbody tr th:only-of-type {\n",
       "        vertical-align: middle;\n",
       "    }\n",
       "\n",
       "    .dataframe tbody tr th {\n",
       "        vertical-align: top;\n",
       "    }\n",
       "\n",
       "    .dataframe thead th {\n",
       "        text-align: right;\n",
       "    }\n",
       "</style>\n",
       "<table border=\"1\" class=\"dataframe\">\n",
       "  <thead>\n",
       "    <tr style=\"text-align: right;\">\n",
       "      <th></th>\n",
       "      <th>location</th>\n",
       "      <th>total_sqft</th>\n",
       "      <th>bath</th>\n",
       "      <th>price</th>\n",
       "      <th>bhk</th>\n",
       "    </tr>\n",
       "  </thead>\n",
       "  <tbody>\n",
       "    <tr>\n",
       "      <th>0</th>\n",
       "      <td>Electronic City Phase II</td>\n",
       "      <td>1056.0</td>\n",
       "      <td>2.0</td>\n",
       "      <td>39.07</td>\n",
       "      <td>2</td>\n",
       "    </tr>\n",
       "    <tr>\n",
       "      <th>1</th>\n",
       "      <td>Chikka Tirupathi</td>\n",
       "      <td>2600.0</td>\n",
       "      <td>5.0</td>\n",
       "      <td>120.00</td>\n",
       "      <td>4</td>\n",
       "    </tr>\n",
       "    <tr>\n",
       "      <th>2</th>\n",
       "      <td>Uttarahalli</td>\n",
       "      <td>1440.0</td>\n",
       "      <td>2.0</td>\n",
       "      <td>62.00</td>\n",
       "      <td>3</td>\n",
       "    </tr>\n",
       "    <tr>\n",
       "      <th>3</th>\n",
       "      <td>Lingadheeranahalli</td>\n",
       "      <td>1521.0</td>\n",
       "      <td>3.0</td>\n",
       "      <td>95.00</td>\n",
       "      <td>3</td>\n",
       "    </tr>\n",
       "    <tr>\n",
       "      <th>4</th>\n",
       "      <td>Kothanur</td>\n",
       "      <td>1200.0</td>\n",
       "      <td>2.0</td>\n",
       "      <td>51.00</td>\n",
       "      <td>2</td>\n",
       "    </tr>\n",
       "  </tbody>\n",
       "</table>\n",
       "</div>"
      ],
      "text/plain": [
       "                   location  total_sqft  bath   price  bhk\n",
       "0  Electronic City Phase II      1056.0   2.0   39.07    2\n",
       "1          Chikka Tirupathi      2600.0   5.0  120.00    4\n",
       "2               Uttarahalli      1440.0   2.0   62.00    3\n",
       "3        Lingadheeranahalli      1521.0   3.0   95.00    3\n",
       "4                  Kothanur      1200.0   2.0   51.00    2"
      ]
     },
     "execution_count": 31,
     "metadata": {},
     "output_type": "execute_result"
    }
   ],
   "source": [
    "df4.head()"
   ]
  },
  {
   "cell_type": "code",
   "execution_count": 32,
   "id": "7a6bc3ca-4d0e-4016-82cd-adcdffc8a7b6",
   "metadata": {},
   "outputs": [
    {
     "data": {
      "text/plain": [
       "location      Yelahanka\n",
       "total_sqft       2475.0\n",
       "bath                4.0\n",
       "price             186.0\n",
       "bhk                   4\n",
       "Name: 30, dtype: object"
      ]
     },
     "execution_count": 32,
     "metadata": {},
     "output_type": "execute_result"
    }
   ],
   "source": [
    "df4.loc[30]"
   ]
  },
  {
   "cell_type": "code",
   "execution_count": 33,
   "id": "ab3d4d7a-79f2-4a5f-9f88-1e7a757c622f",
   "metadata": {},
   "outputs": [],
   "source": [
    "df5 = df4.copy()"
   ]
  },
  {
   "cell_type": "markdown",
   "id": "2cf8750b-5aa1-41c6-b01d-2868984344eb",
   "metadata": {},
   "source": [
    "<h1 style=\"font-size: 25px;\">Feature Engineering - Add new feature called price per square feet</h1>"
   ]
  },
  {
   "cell_type": "code",
   "execution_count": 34,
   "id": "eb928a7e-158f-464d-a752-de28550e8710",
   "metadata": {},
   "outputs": [],
   "source": [
    " df5['price_per_sqft'] = df5['price']*100000/df5['total_sqft']"
   ]
  },
  {
   "cell_type": "code",
   "execution_count": 35,
   "id": "e30c9d56-5c25-4e58-aef1-f0ad15a9a463",
   "metadata": {},
   "outputs": [
    {
     "data": {
      "text/html": [
       "<div>\n",
       "<style scoped>\n",
       "    .dataframe tbody tr th:only-of-type {\n",
       "        vertical-align: middle;\n",
       "    }\n",
       "\n",
       "    .dataframe tbody tr th {\n",
       "        vertical-align: top;\n",
       "    }\n",
       "\n",
       "    .dataframe thead th {\n",
       "        text-align: right;\n",
       "    }\n",
       "</style>\n",
       "<table border=\"1\" class=\"dataframe\">\n",
       "  <thead>\n",
       "    <tr style=\"text-align: right;\">\n",
       "      <th></th>\n",
       "      <th>location</th>\n",
       "      <th>total_sqft</th>\n",
       "      <th>bath</th>\n",
       "      <th>price</th>\n",
       "      <th>bhk</th>\n",
       "      <th>price_per_sqft</th>\n",
       "    </tr>\n",
       "  </thead>\n",
       "  <tbody>\n",
       "    <tr>\n",
       "      <th>0</th>\n",
       "      <td>Electronic City Phase II</td>\n",
       "      <td>1056.0</td>\n",
       "      <td>2.0</td>\n",
       "      <td>39.07</td>\n",
       "      <td>2</td>\n",
       "      <td>3699.810606</td>\n",
       "    </tr>\n",
       "    <tr>\n",
       "      <th>1</th>\n",
       "      <td>Chikka Tirupathi</td>\n",
       "      <td>2600.0</td>\n",
       "      <td>5.0</td>\n",
       "      <td>120.00</td>\n",
       "      <td>4</td>\n",
       "      <td>4615.384615</td>\n",
       "    </tr>\n",
       "    <tr>\n",
       "      <th>2</th>\n",
       "      <td>Uttarahalli</td>\n",
       "      <td>1440.0</td>\n",
       "      <td>2.0</td>\n",
       "      <td>62.00</td>\n",
       "      <td>3</td>\n",
       "      <td>4305.555556</td>\n",
       "    </tr>\n",
       "    <tr>\n",
       "      <th>3</th>\n",
       "      <td>Lingadheeranahalli</td>\n",
       "      <td>1521.0</td>\n",
       "      <td>3.0</td>\n",
       "      <td>95.00</td>\n",
       "      <td>3</td>\n",
       "      <td>6245.890861</td>\n",
       "    </tr>\n",
       "    <tr>\n",
       "      <th>4</th>\n",
       "      <td>Kothanur</td>\n",
       "      <td>1200.0</td>\n",
       "      <td>2.0</td>\n",
       "      <td>51.00</td>\n",
       "      <td>2</td>\n",
       "      <td>4250.000000</td>\n",
       "    </tr>\n",
       "  </tbody>\n",
       "</table>\n",
       "</div>"
      ],
      "text/plain": [
       "                   location  total_sqft  bath   price  bhk  price_per_sqft\n",
       "0  Electronic City Phase II      1056.0   2.0   39.07    2     3699.810606\n",
       "1          Chikka Tirupathi      2600.0   5.0  120.00    4     4615.384615\n",
       "2               Uttarahalli      1440.0   2.0   62.00    3     4305.555556\n",
       "3        Lingadheeranahalli      1521.0   3.0   95.00    3     6245.890861\n",
       "4                  Kothanur      1200.0   2.0   51.00    2     4250.000000"
      ]
     },
     "execution_count": 35,
     "metadata": {},
     "output_type": "execute_result"
    }
   ],
   "source": [
    "df5.head()"
   ]
  },
  {
   "cell_type": "code",
   "execution_count": 36,
   "id": "e20d317e-e673-4b5d-a0b5-dead57a5046d",
   "metadata": {},
   "outputs": [
    {
     "data": {
      "text/plain": [
       "1304"
      ]
     },
     "execution_count": 36,
     "metadata": {},
     "output_type": "execute_result"
    }
   ],
   "source": [
    "len(df5.location.unique())"
   ]
  },
  {
   "cell_type": "code",
   "execution_count": 37,
   "id": "07427656-689a-403d-87ed-563aec5c4900",
   "metadata": {},
   "outputs": [
    {
     "name": "stdout",
     "output_type": "stream",
     "text": [
      "location\n",
      "Nagar         1684\n",
      "Road          1632\n",
      "Layout        1009\n",
      "Phase          594\n",
      "Whitefield     536\n",
      "              ... \n",
      "sector,          1\n",
      "sarjapura        1\n",
      "sapthagiri       1\n",
      "sankeswari       1\n",
      "sa               1\n",
      "Length: 1331, dtype: int64\n"
     ]
    }
   ],
   "source": [
    "# Check if elements are strings before splitting\n",
    "df5['location'] = df5['location'].apply(\n",
    "    lambda x: x.split(' ') if isinstance(x, str) else x\n",
    ")\n",
    "\n",
    "# Count occurrences of each location (after splitting)\n",
    "location_stats = (\n",
    "    df5.explode('location')           # Split lists into individual rowslen \n",
    "    .groupby('location')              # Group by individual words\n",
    "    .size()                           # Count occurrences\n",
    "    .sort_values(ascending=False)     # Sort by frequency\n",
    ")\n",
    "\n",
    "print(location_stats)\n"
   ]
  },
  {
   "cell_type": "code",
   "execution_count": 38,
   "id": "4d4c8015-3542-4c63-af12-24fb5c49b930",
   "metadata": {},
   "outputs": [
    {
     "data": {
      "text/plain": [
       "1036"
      ]
     },
     "execution_count": 38,
     "metadata": {},
     "output_type": "execute_result"
    }
   ],
   "source": [
    "len(location_stats[location_stats<=10])\n"
   ]
  },
  {
   "cell_type": "markdown",
   "id": "57777c6c-93f2-4235-a43a-addd8ba8015e",
   "metadata": {},
   "source": [
    "<h1 style=\"font-size: 25px;\">Dimensionality Reduction</h1>"
   ]
  },
  {
   "cell_type": "markdown",
   "id": "c9ff5334-cfb4-476b-b2e3-4ada8021e856",
   "metadata": {},
   "source": [
    "Any location having less than 10 data points should be tagged as \"other\" location. This way number of categories can be reduced by huge amount. Later on when we do one hot encoding, it will help us with having fewer dummy columns"
   ]
  },
  {
   "cell_type": "code",
   "execution_count": 39,
   "id": "98e37b56-b25d-4a20-a6cb-8784c5161a9c",
   "metadata": {},
   "outputs": [
    {
     "data": {
      "text/plain": [
       "location\n",
       "Akshayanagara      10\n",
       "Richmond           10\n",
       "Nagadevanahalli    10\n",
       "Naganathapura      10\n",
       "Nagappa            10\n",
       "                   ..\n",
       "sector,             1\n",
       "sarjapura           1\n",
       "sapthagiri          1\n",
       "sankeswari          1\n",
       "sa                  1\n",
       "Length: 1036, dtype: int64"
      ]
     },
     "execution_count": 39,
     "metadata": {},
     "output_type": "execute_result"
    }
   ],
   "source": [
    "loc_stats_less_than_10 = location_stats[location_stats<=10]\n",
    "loc_stats_less_than_10"
   ]
  },
  {
   "cell_type": "code",
   "execution_count": 40,
   "id": "73b5d526-93e1-4e11-9d59-b1eb32d289ca",
   "metadata": {},
   "outputs": [
    {
     "data": {
      "text/html": [
       "<div>\n",
       "<style scoped>\n",
       "    .dataframe tbody tr th:only-of-type {\n",
       "        vertical-align: middle;\n",
       "    }\n",
       "\n",
       "    .dataframe tbody tr th {\n",
       "        vertical-align: top;\n",
       "    }\n",
       "\n",
       "    .dataframe thead th {\n",
       "        text-align: right;\n",
       "    }\n",
       "</style>\n",
       "<table border=\"1\" class=\"dataframe\">\n",
       "  <thead>\n",
       "    <tr style=\"text-align: right;\">\n",
       "      <th></th>\n",
       "      <th>location</th>\n",
       "      <th>total_sqft</th>\n",
       "      <th>bath</th>\n",
       "      <th>price</th>\n",
       "      <th>bhk</th>\n",
       "      <th>price_per_sqft</th>\n",
       "    </tr>\n",
       "  </thead>\n",
       "  <tbody>\n",
       "    <tr>\n",
       "      <th>0</th>\n",
       "      <td>[Electronic, City, Phase, II]</td>\n",
       "      <td>1056.0</td>\n",
       "      <td>2.0</td>\n",
       "      <td>39.07</td>\n",
       "      <td>2</td>\n",
       "      <td>3699.810606</td>\n",
       "    </tr>\n",
       "    <tr>\n",
       "      <th>1</th>\n",
       "      <td>[Chikka, Tirupathi]</td>\n",
       "      <td>2600.0</td>\n",
       "      <td>5.0</td>\n",
       "      <td>120.00</td>\n",
       "      <td>4</td>\n",
       "      <td>4615.384615</td>\n",
       "    </tr>\n",
       "    <tr>\n",
       "      <th>2</th>\n",
       "      <td>[Uttarahalli]</td>\n",
       "      <td>1440.0</td>\n",
       "      <td>2.0</td>\n",
       "      <td>62.00</td>\n",
       "      <td>3</td>\n",
       "      <td>4305.555556</td>\n",
       "    </tr>\n",
       "    <tr>\n",
       "      <th>3</th>\n",
       "      <td>[Lingadheeranahalli]</td>\n",
       "      <td>1521.0</td>\n",
       "      <td>3.0</td>\n",
       "      <td>95.00</td>\n",
       "      <td>3</td>\n",
       "      <td>6245.890861</td>\n",
       "    </tr>\n",
       "    <tr>\n",
       "      <th>4</th>\n",
       "      <td>[Kothanur]</td>\n",
       "      <td>1200.0</td>\n",
       "      <td>2.0</td>\n",
       "      <td>51.00</td>\n",
       "      <td>2</td>\n",
       "      <td>4250.000000</td>\n",
       "    </tr>\n",
       "  </tbody>\n",
       "</table>\n",
       "</div>"
      ],
      "text/plain": [
       "                        location  total_sqft  bath   price  bhk  \\\n",
       "0  [Electronic, City, Phase, II]      1056.0   2.0   39.07    2   \n",
       "1            [Chikka, Tirupathi]      2600.0   5.0  120.00    4   \n",
       "2                  [Uttarahalli]      1440.0   2.0   62.00    3   \n",
       "3           [Lingadheeranahalli]      1521.0   3.0   95.00    3   \n",
       "4                     [Kothanur]      1200.0   2.0   51.00    2   \n",
       "\n",
       "   price_per_sqft  \n",
       "0     3699.810606  \n",
       "1     4615.384615  \n",
       "2     4305.555556  \n",
       "3     6245.890861  \n",
       "4     4250.000000  "
      ]
     },
     "execution_count": 40,
     "metadata": {},
     "output_type": "execute_result"
    }
   ],
   "source": [
    "df5.head()"
   ]
  },
  {
   "cell_type": "code",
   "execution_count": 41,
   "id": "44ce54f5-d03a-43d2-bf5c-64b3c4196d33",
   "metadata": {},
   "outputs": [
    {
     "data": {
      "text/html": [
       "<div>\n",
       "<style scoped>\n",
       "    .dataframe tbody tr th:only-of-type {\n",
       "        vertical-align: middle;\n",
       "    }\n",
       "\n",
       "    .dataframe tbody tr th {\n",
       "        vertical-align: top;\n",
       "    }\n",
       "\n",
       "    .dataframe thead th {\n",
       "        text-align: right;\n",
       "    }\n",
       "</style>\n",
       "<table border=\"1\" class=\"dataframe\">\n",
       "  <thead>\n",
       "    <tr style=\"text-align: right;\">\n",
       "      <th></th>\n",
       "      <th>location</th>\n",
       "      <th>total_sqft</th>\n",
       "      <th>bath</th>\n",
       "      <th>price</th>\n",
       "      <th>bhk</th>\n",
       "      <th>price_per_sqft</th>\n",
       "    </tr>\n",
       "  </thead>\n",
       "  <tbody>\n",
       "    <tr>\n",
       "      <th>0</th>\n",
       "      <td>[Electronic, City, Phase, II]</td>\n",
       "      <td>1056.0</td>\n",
       "      <td>2.0</td>\n",
       "      <td>39.07</td>\n",
       "      <td>2</td>\n",
       "      <td>3699.810606</td>\n",
       "    </tr>\n",
       "    <tr>\n",
       "      <th>1</th>\n",
       "      <td>[Chikka, Tirupathi]</td>\n",
       "      <td>2600.0</td>\n",
       "      <td>5.0</td>\n",
       "      <td>120.00</td>\n",
       "      <td>4</td>\n",
       "      <td>4615.384615</td>\n",
       "    </tr>\n",
       "    <tr>\n",
       "      <th>2</th>\n",
       "      <td>[Uttarahalli]</td>\n",
       "      <td>1440.0</td>\n",
       "      <td>2.0</td>\n",
       "      <td>62.00</td>\n",
       "      <td>3</td>\n",
       "      <td>4305.555556</td>\n",
       "    </tr>\n",
       "    <tr>\n",
       "      <th>3</th>\n",
       "      <td>[Lingadheeranahalli]</td>\n",
       "      <td>1521.0</td>\n",
       "      <td>3.0</td>\n",
       "      <td>95.00</td>\n",
       "      <td>3</td>\n",
       "      <td>6245.890861</td>\n",
       "    </tr>\n",
       "    <tr>\n",
       "      <th>4</th>\n",
       "      <td>[Kothanur]</td>\n",
       "      <td>1200.0</td>\n",
       "      <td>2.0</td>\n",
       "      <td>51.00</td>\n",
       "      <td>2</td>\n",
       "      <td>4250.000000</td>\n",
       "    </tr>\n",
       "  </tbody>\n",
       "</table>\n",
       "</div>"
      ],
      "text/plain": [
       "                        location  total_sqft  bath   price  bhk  \\\n",
       "0  [Electronic, City, Phase, II]      1056.0   2.0   39.07    2   \n",
       "1            [Chikka, Tirupathi]      2600.0   5.0  120.00    4   \n",
       "2                  [Uttarahalli]      1440.0   2.0   62.00    3   \n",
       "3           [Lingadheeranahalli]      1521.0   3.0   95.00    3   \n",
       "4                     [Kothanur]      1200.0   2.0   51.00    2   \n",
       "\n",
       "   price_per_sqft  \n",
       "0     3699.810606  \n",
       "1     4615.384615  \n",
       "2     4305.555556  \n",
       "3     6245.890861  \n",
       "4     4250.000000  "
      ]
     },
     "execution_count": 41,
     "metadata": {},
     "output_type": "execute_result"
    }
   ],
   "source": [
    "df5.head()\n"
   ]
  },
  {
   "cell_type": "code",
   "execution_count": 42,
   "id": "74c94977-5885-4f8d-a8d6-05c795c11d99",
   "metadata": {},
   "outputs": [
    {
     "data": {
      "text/plain": [
       "0    [Electronic, City, Phase, II]\n",
       "1              [Chikka, Tirupathi]\n",
       "2                    [Uttarahalli]\n",
       "3             [Lingadheeranahalli]\n",
       "4                       [Kothanur]\n",
       "Name: location, dtype: object"
      ]
     },
     "execution_count": 42,
     "metadata": {},
     "output_type": "execute_result"
    }
   ],
   "source": [
    "df5['location'].head()"
   ]
  },
  {
   "cell_type": "code",
   "execution_count": 43,
   "id": "36a66847-fd4a-4844-8ff8-3c2685300674",
   "metadata": {},
   "outputs": [],
   "source": [
    "df5['location'] = df5['location'].apply(lambda x: tuple(x) if isinstance(x, list) else x)"
   ]
  },
  {
   "cell_type": "code",
   "execution_count": 44,
   "id": "2bcc6b70-33fe-4254-93c7-2e6ff0dda699",
   "metadata": {},
   "outputs": [
    {
     "data": {
      "text/plain": [
       "array([('Electronic', 'City', 'Phase', 'II'), ('Chikka', 'Tirupathi'),\n",
       "       ('Uttarahalli',), ...,\n",
       "       ('12th', 'cross', 'srinivas', 'nagar', 'banshankari', '3rd', 'stage'),\n",
       "       ('Havanur', 'extension'), ('Abshot', 'Layout')],\n",
       "      shape=(1304,), dtype=object)"
      ]
     },
     "execution_count": 44,
     "metadata": {},
     "output_type": "execute_result"
    }
   ],
   "source": [
    "df5['location'].unique()"
   ]
  },
  {
   "cell_type": "code",
   "execution_count": 45,
   "id": "5fc2b223-e05a-43ac-9095-e85d26e5335e",
   "metadata": {},
   "outputs": [
    {
     "data": {
      "text/plain": [
       "1304"
      ]
     },
     "execution_count": 45,
     "metadata": {},
     "output_type": "execute_result"
    }
   ],
   "source": [
    "df5.location = df5.location.apply(lambda x: 'other' if x in loc_stats_less_than_10 else x)\n",
    "len(df5.location.unique())"
   ]
  },
  {
   "cell_type": "code",
   "execution_count": 46,
   "id": "eb080dc7-559f-4451-b2c7-49b54a5bd4c0",
   "metadata": {},
   "outputs": [
    {
     "data": {
      "text/html": [
       "<div>\n",
       "<style scoped>\n",
       "    .dataframe tbody tr th:only-of-type {\n",
       "        vertical-align: middle;\n",
       "    }\n",
       "\n",
       "    .dataframe tbody tr th {\n",
       "        vertical-align: top;\n",
       "    }\n",
       "\n",
       "    .dataframe thead th {\n",
       "        text-align: right;\n",
       "    }\n",
       "</style>\n",
       "<table border=\"1\" class=\"dataframe\">\n",
       "  <thead>\n",
       "    <tr style=\"text-align: right;\">\n",
       "      <th></th>\n",
       "      <th>location</th>\n",
       "      <th>total_sqft</th>\n",
       "      <th>bath</th>\n",
       "      <th>price</th>\n",
       "      <th>bhk</th>\n",
       "      <th>price_per_sqft</th>\n",
       "    </tr>\n",
       "  </thead>\n",
       "  <tbody>\n",
       "    <tr>\n",
       "      <th>0</th>\n",
       "      <td>(Electronic, City, Phase, II)</td>\n",
       "      <td>1056.0</td>\n",
       "      <td>2.0</td>\n",
       "      <td>39.07</td>\n",
       "      <td>2</td>\n",
       "      <td>3699.810606</td>\n",
       "    </tr>\n",
       "    <tr>\n",
       "      <th>1</th>\n",
       "      <td>(Chikka, Tirupathi)</td>\n",
       "      <td>2600.0</td>\n",
       "      <td>5.0</td>\n",
       "      <td>120.00</td>\n",
       "      <td>4</td>\n",
       "      <td>4615.384615</td>\n",
       "    </tr>\n",
       "    <tr>\n",
       "      <th>2</th>\n",
       "      <td>(Uttarahalli,)</td>\n",
       "      <td>1440.0</td>\n",
       "      <td>2.0</td>\n",
       "      <td>62.00</td>\n",
       "      <td>3</td>\n",
       "      <td>4305.555556</td>\n",
       "    </tr>\n",
       "    <tr>\n",
       "      <th>3</th>\n",
       "      <td>(Lingadheeranahalli,)</td>\n",
       "      <td>1521.0</td>\n",
       "      <td>3.0</td>\n",
       "      <td>95.00</td>\n",
       "      <td>3</td>\n",
       "      <td>6245.890861</td>\n",
       "    </tr>\n",
       "    <tr>\n",
       "      <th>4</th>\n",
       "      <td>(Kothanur,)</td>\n",
       "      <td>1200.0</td>\n",
       "      <td>2.0</td>\n",
       "      <td>51.00</td>\n",
       "      <td>2</td>\n",
       "      <td>4250.000000</td>\n",
       "    </tr>\n",
       "    <tr>\n",
       "      <th>5</th>\n",
       "      <td>(Whitefield,)</td>\n",
       "      <td>1170.0</td>\n",
       "      <td>2.0</td>\n",
       "      <td>38.00</td>\n",
       "      <td>2</td>\n",
       "      <td>3247.863248</td>\n",
       "    </tr>\n",
       "    <tr>\n",
       "      <th>6</th>\n",
       "      <td>(Old, Airport, Road)</td>\n",
       "      <td>2732.0</td>\n",
       "      <td>4.0</td>\n",
       "      <td>204.00</td>\n",
       "      <td>4</td>\n",
       "      <td>7467.057101</td>\n",
       "    </tr>\n",
       "    <tr>\n",
       "      <th>7</th>\n",
       "      <td>(Rajaji, Nagar)</td>\n",
       "      <td>3300.0</td>\n",
       "      <td>4.0</td>\n",
       "      <td>600.00</td>\n",
       "      <td>4</td>\n",
       "      <td>18181.818182</td>\n",
       "    </tr>\n",
       "    <tr>\n",
       "      <th>8</th>\n",
       "      <td>(Marathahalli,)</td>\n",
       "      <td>1310.0</td>\n",
       "      <td>3.0</td>\n",
       "      <td>63.25</td>\n",
       "      <td>3</td>\n",
       "      <td>4828.244275</td>\n",
       "    </tr>\n",
       "    <tr>\n",
       "      <th>9</th>\n",
       "      <td>(Gandhi, Bazar)</td>\n",
       "      <td>1020.0</td>\n",
       "      <td>6.0</td>\n",
       "      <td>370.00</td>\n",
       "      <td>6</td>\n",
       "      <td>36274.509804</td>\n",
       "    </tr>\n",
       "  </tbody>\n",
       "</table>\n",
       "</div>"
      ],
      "text/plain": [
       "                        location  total_sqft  bath   price  bhk  \\\n",
       "0  (Electronic, City, Phase, II)      1056.0   2.0   39.07    2   \n",
       "1            (Chikka, Tirupathi)      2600.0   5.0  120.00    4   \n",
       "2                 (Uttarahalli,)      1440.0   2.0   62.00    3   \n",
       "3          (Lingadheeranahalli,)      1521.0   3.0   95.00    3   \n",
       "4                    (Kothanur,)      1200.0   2.0   51.00    2   \n",
       "5                  (Whitefield,)      1170.0   2.0   38.00    2   \n",
       "6           (Old, Airport, Road)      2732.0   4.0  204.00    4   \n",
       "7                (Rajaji, Nagar)      3300.0   4.0  600.00    4   \n",
       "8                (Marathahalli,)      1310.0   3.0   63.25    3   \n",
       "9                (Gandhi, Bazar)      1020.0   6.0  370.00    6   \n",
       "\n",
       "   price_per_sqft  \n",
       "0     3699.810606  \n",
       "1     4615.384615  \n",
       "2     4305.555556  \n",
       "3     6245.890861  \n",
       "4     4250.000000  \n",
       "5     3247.863248  \n",
       "6     7467.057101  \n",
       "7    18181.818182  \n",
       "8     4828.244275  \n",
       "9    36274.509804  "
      ]
     },
     "execution_count": 46,
     "metadata": {},
     "output_type": "execute_result"
    }
   ],
   "source": [
    "df5.head(10)"
   ]
  },
  {
   "cell_type": "code",
   "execution_count": 47,
   "id": "d435b29e-fcfe-479d-acb4-21cf07f0b3eb",
   "metadata": {},
   "outputs": [
    {
     "data": {
      "text/plain": [
       "location\n",
       "Akshayanagara      10\n",
       "Richmond           10\n",
       "Nagadevanahalli    10\n",
       "Naganathapura      10\n",
       "Nagappa            10\n",
       "dtype: int64"
      ]
     },
     "execution_count": 47,
     "metadata": {},
     "output_type": "execute_result"
    }
   ],
   "source": [
    "loc_stats_less_than_10.head()"
   ]
  },
  {
   "cell_type": "markdown",
   "id": "6231d806-779e-4599-a82a-b681b647252e",
   "metadata": {},
   "source": [
    "<h1 style=\"font-size: 25px;\">Outlier Removal Using Business Logic</h1>"
   ]
  },
  {
   "cell_type": "markdown",
   "id": "0ec638e2-e7a9-4f88-aeb1-585481570c50",
   "metadata": {},
   "source": [
    "As a data scientist when you have a conversation with your business manager (who has expertise in real estate), he will tell you that normally square ft per bedroom is 300 (i.e. 2 bhk apartment is minimum 600 sqft. If you have for example 400 sqft apartment with 2 bhk than that seems suspicious and can be removed as an outlier. We will remove such outliers by keeping our minimum thresold per bhk to be 300 sqft\n"
   ]
  },
  {
   "cell_type": "code",
   "execution_count": 48,
   "id": "f427e34c-460c-4ce0-a9eb-d11c7d21df25",
   "metadata": {},
   "outputs": [
    {
     "data": {
      "text/html": [
       "<div>\n",
       "<style scoped>\n",
       "    .dataframe tbody tr th:only-of-type {\n",
       "        vertical-align: middle;\n",
       "    }\n",
       "\n",
       "    .dataframe tbody tr th {\n",
       "        vertical-align: top;\n",
       "    }\n",
       "\n",
       "    .dataframe thead th {\n",
       "        text-align: right;\n",
       "    }\n",
       "</style>\n",
       "<table border=\"1\" class=\"dataframe\">\n",
       "  <thead>\n",
       "    <tr style=\"text-align: right;\">\n",
       "      <th></th>\n",
       "      <th>location</th>\n",
       "      <th>total_sqft</th>\n",
       "      <th>bath</th>\n",
       "      <th>price</th>\n",
       "      <th>bhk</th>\n",
       "      <th>price_per_sqft</th>\n",
       "    </tr>\n",
       "  </thead>\n",
       "  <tbody>\n",
       "    <tr>\n",
       "      <th>9</th>\n",
       "      <td>(Gandhi, Bazar)</td>\n",
       "      <td>1020.0</td>\n",
       "      <td>6.0</td>\n",
       "      <td>370.0</td>\n",
       "      <td>6</td>\n",
       "      <td>36274.509804</td>\n",
       "    </tr>\n",
       "    <tr>\n",
       "      <th>45</th>\n",
       "      <td>(HSR, Layout)</td>\n",
       "      <td>600.0</td>\n",
       "      <td>9.0</td>\n",
       "      <td>200.0</td>\n",
       "      <td>8</td>\n",
       "      <td>33333.333333</td>\n",
       "    </tr>\n",
       "    <tr>\n",
       "      <th>58</th>\n",
       "      <td>(Murugeshpalya,)</td>\n",
       "      <td>1407.0</td>\n",
       "      <td>4.0</td>\n",
       "      <td>150.0</td>\n",
       "      <td>6</td>\n",
       "      <td>10660.980810</td>\n",
       "    </tr>\n",
       "    <tr>\n",
       "      <th>68</th>\n",
       "      <td>(Devarachikkanahalli,)</td>\n",
       "      <td>1350.0</td>\n",
       "      <td>7.0</td>\n",
       "      <td>85.0</td>\n",
       "      <td>8</td>\n",
       "      <td>6296.296296</td>\n",
       "    </tr>\n",
       "    <tr>\n",
       "      <th>70</th>\n",
       "      <td>(Double, Road)</td>\n",
       "      <td>500.0</td>\n",
       "      <td>3.0</td>\n",
       "      <td>100.0</td>\n",
       "      <td>3</td>\n",
       "      <td>20000.000000</td>\n",
       "    </tr>\n",
       "  </tbody>\n",
       "</table>\n",
       "</div>"
      ],
      "text/plain": [
       "                  location  total_sqft  bath  price  bhk  price_per_sqft\n",
       "9          (Gandhi, Bazar)      1020.0   6.0  370.0    6    36274.509804\n",
       "45           (HSR, Layout)       600.0   9.0  200.0    8    33333.333333\n",
       "58        (Murugeshpalya,)      1407.0   4.0  150.0    6    10660.980810\n",
       "68  (Devarachikkanahalli,)      1350.0   7.0   85.0    8     6296.296296\n",
       "70          (Double, Road)       500.0   3.0  100.0    3    20000.000000"
      ]
     },
     "execution_count": 48,
     "metadata": {},
     "output_type": "execute_result"
    }
   ],
   "source": [
    "df5[df5.total_sqft/df5.bhk<300].head()"
   ]
  },
  {
   "cell_type": "code",
   "execution_count": 49,
   "id": "a91dcade-c884-48cc-a724-25066e44d8f3",
   "metadata": {},
   "outputs": [
    {
     "data": {
      "text/plain": [
       "(13246, 6)"
      ]
     },
     "execution_count": 49,
     "metadata": {},
     "output_type": "execute_result"
    }
   ],
   "source": [
    "df5.shape"
   ]
  },
  {
   "cell_type": "code",
   "execution_count": 50,
   "id": "e096d52e-7610-4aec-8093-e241df27f9c1",
   "metadata": {},
   "outputs": [
    {
     "data": {
      "text/plain": [
       "(12502, 6)"
      ]
     },
     "execution_count": 50,
     "metadata": {},
     "output_type": "execute_result"
    }
   ],
   "source": [
    "df6 = df5[~(df5.total_sqft/df5.bhk<300)]\n",
    "df6.shape"
   ]
  },
  {
   "cell_type": "code",
   "execution_count": 51,
   "id": "59ff7b22-c049-431e-9ceb-f4627c2d93ee",
   "metadata": {},
   "outputs": [
    {
     "data": {
      "text/html": [
       "<div>\n",
       "<style scoped>\n",
       "    .dataframe tbody tr th:only-of-type {\n",
       "        vertical-align: middle;\n",
       "    }\n",
       "\n",
       "    .dataframe tbody tr th {\n",
       "        vertical-align: top;\n",
       "    }\n",
       "\n",
       "    .dataframe thead th {\n",
       "        text-align: right;\n",
       "    }\n",
       "</style>\n",
       "<table border=\"1\" class=\"dataframe\">\n",
       "  <thead>\n",
       "    <tr style=\"text-align: right;\">\n",
       "      <th></th>\n",
       "      <th>location</th>\n",
       "      <th>total_sqft</th>\n",
       "      <th>bath</th>\n",
       "      <th>price</th>\n",
       "      <th>bhk</th>\n",
       "      <th>price_per_sqft</th>\n",
       "    </tr>\n",
       "  </thead>\n",
       "  <tbody>\n",
       "    <tr>\n",
       "      <th>0</th>\n",
       "      <td>(Electronic, City, Phase, II)</td>\n",
       "      <td>1056.0</td>\n",
       "      <td>2.0</td>\n",
       "      <td>39.07</td>\n",
       "      <td>2</td>\n",
       "      <td>3699.810606</td>\n",
       "    </tr>\n",
       "    <tr>\n",
       "      <th>1</th>\n",
       "      <td>(Chikka, Tirupathi)</td>\n",
       "      <td>2600.0</td>\n",
       "      <td>5.0</td>\n",
       "      <td>120.00</td>\n",
       "      <td>4</td>\n",
       "      <td>4615.384615</td>\n",
       "    </tr>\n",
       "    <tr>\n",
       "      <th>2</th>\n",
       "      <td>(Uttarahalli,)</td>\n",
       "      <td>1440.0</td>\n",
       "      <td>2.0</td>\n",
       "      <td>62.00</td>\n",
       "      <td>3</td>\n",
       "      <td>4305.555556</td>\n",
       "    </tr>\n",
       "    <tr>\n",
       "      <th>3</th>\n",
       "      <td>(Lingadheeranahalli,)</td>\n",
       "      <td>1521.0</td>\n",
       "      <td>3.0</td>\n",
       "      <td>95.00</td>\n",
       "      <td>3</td>\n",
       "      <td>6245.890861</td>\n",
       "    </tr>\n",
       "    <tr>\n",
       "      <th>4</th>\n",
       "      <td>(Kothanur,)</td>\n",
       "      <td>1200.0</td>\n",
       "      <td>2.0</td>\n",
       "      <td>51.00</td>\n",
       "      <td>2</td>\n",
       "      <td>4250.000000</td>\n",
       "    </tr>\n",
       "  </tbody>\n",
       "</table>\n",
       "</div>"
      ],
      "text/plain": [
       "                        location  total_sqft  bath   price  bhk  \\\n",
       "0  (Electronic, City, Phase, II)      1056.0   2.0   39.07    2   \n",
       "1            (Chikka, Tirupathi)      2600.0   5.0  120.00    4   \n",
       "2                 (Uttarahalli,)      1440.0   2.0   62.00    3   \n",
       "3          (Lingadheeranahalli,)      1521.0   3.0   95.00    3   \n",
       "4                    (Kothanur,)      1200.0   2.0   51.00    2   \n",
       "\n",
       "   price_per_sqft  \n",
       "0     3699.810606  \n",
       "1     4615.384615  \n",
       "2     4305.555556  \n",
       "3     6245.890861  \n",
       "4     4250.000000  "
      ]
     },
     "execution_count": 51,
     "metadata": {},
     "output_type": "execute_result"
    }
   ],
   "source": [
    "df6.head()"
   ]
  },
  {
   "cell_type": "markdown",
   "id": "c59530d4-4bdb-4481-b92f-e79bf822be8c",
   "metadata": {},
   "source": [
    "<h1 style=\"font-size: 25px;\">Outlier Removal Using Standard Deviation and Mean</h1>"
   ]
  },
  {
   "cell_type": "code",
   "execution_count": 52,
   "id": "31cb08c0-542d-4055-9f2b-ace7fb1d1dda",
   "metadata": {},
   "outputs": [
    {
     "data": {
      "text/plain": [
       "count     12456.000000\n",
       "mean       6308.502826\n",
       "std        4168.127339\n",
       "min         267.829813\n",
       "25%        4210.526316\n",
       "50%        5294.117647\n",
       "75%        6916.666667\n",
       "max      176470.588235\n",
       "Name: price_per_sqft, dtype: float64"
      ]
     },
     "execution_count": 52,
     "metadata": {},
     "output_type": "execute_result"
    }
   ],
   "source": [
    "df6.price_per_sqft.describe()"
   ]
  },
  {
   "cell_type": "code",
   "execution_count": 53,
   "id": "300122d6-4991-49dc-8334-5991cd49afa7",
   "metadata": {},
   "outputs": [
    {
     "data": {
      "text/html": [
       "<div>\n",
       "<style scoped>\n",
       "    .dataframe tbody tr th:only-of-type {\n",
       "        vertical-align: middle;\n",
       "    }\n",
       "\n",
       "    .dataframe tbody tr th {\n",
       "        vertical-align: top;\n",
       "    }\n",
       "\n",
       "    .dataframe thead th {\n",
       "        text-align: right;\n",
       "    }\n",
       "</style>\n",
       "<table border=\"1\" class=\"dataframe\">\n",
       "  <thead>\n",
       "    <tr style=\"text-align: right;\">\n",
       "      <th></th>\n",
       "      <th>location</th>\n",
       "      <th>total_sqft</th>\n",
       "      <th>bath</th>\n",
       "      <th>price</th>\n",
       "      <th>bhk</th>\n",
       "      <th>price_per_sqft</th>\n",
       "    </tr>\n",
       "  </thead>\n",
       "  <tbody>\n",
       "    <tr>\n",
       "      <th>0</th>\n",
       "      <td>(, Devarabeesana, Halli)</td>\n",
       "      <td>1672.0</td>\n",
       "      <td>3.0</td>\n",
       "      <td>150.0</td>\n",
       "      <td>3</td>\n",
       "      <td>8971.291866</td>\n",
       "    </tr>\n",
       "    <tr>\n",
       "      <th>1</th>\n",
       "      <td>(, Devarabeesana, Halli)</td>\n",
       "      <td>1750.0</td>\n",
       "      <td>3.0</td>\n",
       "      <td>149.0</td>\n",
       "      <td>3</td>\n",
       "      <td>8514.285714</td>\n",
       "    </tr>\n",
       "    <tr>\n",
       "      <th>2</th>\n",
       "      <td>(, Devarabeesana, Halli)</td>\n",
       "      <td>1750.0</td>\n",
       "      <td>3.0</td>\n",
       "      <td>150.0</td>\n",
       "      <td>3</td>\n",
       "      <td>8571.428571</td>\n",
       "    </tr>\n",
       "    <tr>\n",
       "      <th>3</th>\n",
       "      <td>(, Devarachikkanahalli)</td>\n",
       "      <td>1250.0</td>\n",
       "      <td>2.0</td>\n",
       "      <td>44.0</td>\n",
       "      <td>3</td>\n",
       "      <td>3520.000000</td>\n",
       "    </tr>\n",
       "    <tr>\n",
       "      <th>4</th>\n",
       "      <td>(, Devarachikkanahalli)</td>\n",
       "      <td>1250.0</td>\n",
       "      <td>2.0</td>\n",
       "      <td>40.0</td>\n",
       "      <td>2</td>\n",
       "      <td>3200.000000</td>\n",
       "    </tr>\n",
       "    <tr>\n",
       "      <th>5</th>\n",
       "      <td>(, Devarachikkanahalli)</td>\n",
       "      <td>1200.0</td>\n",
       "      <td>2.0</td>\n",
       "      <td>83.0</td>\n",
       "      <td>2</td>\n",
       "      <td>6916.666667</td>\n",
       "    </tr>\n",
       "    <tr>\n",
       "      <th>6</th>\n",
       "      <td>(, Devarachikkanahalli)</td>\n",
       "      <td>1170.0</td>\n",
       "      <td>2.0</td>\n",
       "      <td>40.0</td>\n",
       "      <td>2</td>\n",
       "      <td>3418.803419</td>\n",
       "    </tr>\n",
       "    <tr>\n",
       "      <th>7</th>\n",
       "      <td>(, Devarachikkanahalli)</td>\n",
       "      <td>1425.0</td>\n",
       "      <td>2.0</td>\n",
       "      <td>65.0</td>\n",
       "      <td>3</td>\n",
       "      <td>4561.403509</td>\n",
       "    </tr>\n",
       "    <tr>\n",
       "      <th>8</th>\n",
       "      <td>(, Devarachikkanahalli)</td>\n",
       "      <td>947.0</td>\n",
       "      <td>2.0</td>\n",
       "      <td>43.0</td>\n",
       "      <td>2</td>\n",
       "      <td>4540.654699</td>\n",
       "    </tr>\n",
       "    <tr>\n",
       "      <th>9</th>\n",
       "      <td>(, Devarachikkanahalli)</td>\n",
       "      <td>1130.0</td>\n",
       "      <td>2.0</td>\n",
       "      <td>36.0</td>\n",
       "      <td>2</td>\n",
       "      <td>3185.840708</td>\n",
       "    </tr>\n",
       "  </tbody>\n",
       "</table>\n",
       "</div>"
      ],
      "text/plain": [
       "                   location  total_sqft  bath  price  bhk  price_per_sqft\n",
       "0  (, Devarabeesana, Halli)      1672.0   3.0  150.0    3     8971.291866\n",
       "1  (, Devarabeesana, Halli)      1750.0   3.0  149.0    3     8514.285714\n",
       "2  (, Devarabeesana, Halli)      1750.0   3.0  150.0    3     8571.428571\n",
       "3   (, Devarachikkanahalli)      1250.0   2.0   44.0    3     3520.000000\n",
       "4   (, Devarachikkanahalli)      1250.0   2.0   40.0    2     3200.000000\n",
       "5   (, Devarachikkanahalli)      1200.0   2.0   83.0    2     6916.666667\n",
       "6   (, Devarachikkanahalli)      1170.0   2.0   40.0    2     3418.803419\n",
       "7   (, Devarachikkanahalli)      1425.0   2.0   65.0    3     4561.403509\n",
       "8   (, Devarachikkanahalli)       947.0   2.0   43.0    2     4540.654699\n",
       "9   (, Devarachikkanahalli)      1130.0   2.0   36.0    2     3185.840708"
      ]
     },
     "execution_count": 53,
     "metadata": {},
     "output_type": "execute_result"
    }
   ],
   "source": [
    "def remove_pps_outliers(df):\n",
    "    df_out = pd.DataFrame()\n",
    "    for key, subdf in df.groupby('location'):\n",
    "        m = np.mean(subdf.price_per_sqft)\n",
    "        st = np.std(subdf.price_per_sqft)\n",
    "        reduced_df = subdf[(subdf.price_per_sqft>(m-st)) & (subdf.price_per_sqft<=(m+st))]\n",
    "        df_out = pd.concat([df_out,reduced_df],ignore_index=True)\n",
    "    return df_out\n",
    "\n",
    "df7 = remove_pps_outliers(df6)\n",
    "df7.shape\n",
    "\n",
    "df7.head(10)"
   ]
  },
  {
   "cell_type": "code",
   "execution_count": 54,
   "id": "44817ee6-2dca-4e8f-9955-5ff510f01b99",
   "metadata": {},
   "outputs": [
    {
     "data": {
      "image/png": "[encoded data removed]",
      "text/plain": [
       "<Figure size 1500x1000 with 1 Axes>"
      ]
     },
     "metadata": {},
     "output_type": "display_data"
    }
   ],
   "source": [
    "def plot_scatter_chart(df,location):\n",
    "    bhk2 = df[(df.location==location) & (df.bhk==2)]\n",
    "    bhk3 = df[(df.location==location) & (df.bhk==3)]\n",
    "    matplotlib.rcParams['figure.figsize'] = (15,10)\n",
    "    plt.scatter(bhk2.total_sqft,bhk2.price_per_sqft, color='blue', label='2 BHK', s=50)\n",
    "    plt.scatter(bhk3.total_sqft,bhk3.price_per_sqft, marker='+', color='green', label='3 BHK', s=50) # Corrected line\n",
    "    plt.xlabel(\"Total Square feet area\")\n",
    "    plt.ylabel(\"Price per square feet\")\n",
    "    plt.title(location)\n",
    "    plt.legend()\n",
    "\n",
    "plot_scatter_chart(df7,('Rajaji Nagar'))"
   ]
  },
  {
   "cell_type": "code",
   "execution_count": 55,
   "id": "56146e1d-817b-4027-8a29-d492506174d7",
   "metadata": {},
   "outputs": [
    {
     "data": {
      "text/plain": [
       "array([('', 'Devarabeesana', 'Halli'), ('', 'Devarachikkanahalli'),\n",
       "       ('', 'Electronic', 'City'), ('', 'Mysore', 'Highway'),\n",
       "       ('', 'Rachenahalli'), ('', 'Thanisandra'), ('', 'south'),\n",
       "       ('1st', 'Block', 'BEL', 'Layout'),\n",
       "       ('1st', 'Block', 'HBR', 'Layout'),\n",
       "       ('1st', 'Block', 'HRBR', 'Layout'), ('1st', 'Block', 'Jayanagar'),\n",
       "       ('1st', 'Block', 'Koramangala'), ('1st', 'Phase', 'JP', 'Nagar'),\n",
       "       ('1st', 'Stage', 'Indira', 'Nagar'),\n",
       "       ('2nd', 'Block', 'Hrbr', 'Layout'), ('2nd', 'Block', 'Jayanagar'),\n",
       "       ('2nd', 'Phase', 'JP', 'Nagar'),\n",
       "       ('2nd', 'Phase', 'Judicial', 'Layout'),\n",
       "       ('2nd', 'Stage', 'Arekere', 'Mico', 'Layout'),\n",
       "       ('2nd', 'Stage', 'Nagarbhavi'), ('3rd', 'Block', 'Banashankari'),\n",
       "       ('3rd', 'Block', 'Hrbr', 'Layout'), ('3rd', 'Block', 'Jayanagar'),\n",
       "       ('3rd', 'Block', 'Koramangala'), ('3rd', 'Phase', 'JP', 'Nagar'),\n",
       "       ('4th', 'Block', 'Jayanagar'), ('4th', 'Block', 'Koramangala'),\n",
       "       ('4th', 'Phase', 'JP', 'Nagar'),\n",
       "       ('4th', 'T', 'block', 'Jayanagar'),\n",
       "       ('5th', 'Block', 'Hbr', 'Layout'), ('5th', 'Phase', 'JP', 'Nagar'),\n",
       "       ('5th', 'Stage', 'BEML', 'Layout'),\n",
       "       ('6th', 'Phase', 'JP', 'Nagar'), ('6th', 'block', 'Koramangala'),\n",
       "       ('7th', 'Block', 'Jayanagar'), ('7th', 'Phase', 'JP', 'Nagar'),\n",
       "       ('8th', 'Block', 'Jayanagar'), ('8th', 'Phase', 'JP', 'Nagar'),\n",
       "       ('8th', 'block', 'Koramangala'), ('9th', 'Block', 'Jayanagar'),\n",
       "       ('9th', 'Phase', 'JP', 'Nagar'), ('A', 'Narayanapura'),\n",
       "       ('AECS', 'Layout'), ('AGS', 'Layout'), ('AMS', 'Layout'),\n",
       "       ('Abbaiah', 'Reddy', 'Layout'), ('Abbigere',),\n",
       "       ('Agrahara', 'Dasarahalli'), ('Aishwarya', 'Crystal', 'Layout'),\n",
       "       ('Akshaya', 'Nagar'), ('Akshaya', 'Vana'),\n",
       "       ('Akshayanagara', 'East'), ('Akshya', 'Nagar'),\n",
       "       ('Alfa', 'Garden', 'Layout'), ('Alur',), ('Amarjyothi', 'Colony'),\n",
       "       ('Ambalipura',), ('Ambedkar', 'Colony'), ('Ambedkar', 'Nagar'),\n",
       "       ('Amblipura',), ('Amruthahalli',), ('Amruthnagar',),\n",
       "       ('Anand', 'Nagar'), ('Anand', 'nagar'), ('Anandapura',),\n",
       "       ('Anantapura',), ('Ananth', 'Nagar'), ('Andrahalli',), ('Anekal',),\n",
       "       ('Anjanapura',), ('Anjappa', 'Layout'), ('Ankappa', 'Layout'),\n",
       "       ('Annaiah', 'Reddy', 'Layout'), ('Annapurneshwari', 'Nagar'),\n",
       "       ('Anugrah', 'Layout'), ('Anwar', 'Layout'), ('Ardendale',),\n",
       "       ('Arehalli',), ('Arekere',), ('Ashirvad', 'Colony'),\n",
       "       ('Ashok', 'Nagar'), ('Ashwath', 'Nagar'), ('Ashwathnagar',),\n",
       "       ('Ashwini', 'layout'), ('Atmananda', 'Colony'), ('Attibele',),\n",
       "       ('Attur', 'Layout'), ('Austin', 'Town'), ('Avalahalli',),\n",
       "       ('Ayappa', 'Nagar'), ('B', 'Channasandra'), ('B', 'Narayanapura'),\n",
       "       ('BCC', 'Layout'), ('BCMC', 'Layout'), ('BEL', 'Road'),\n",
       "       ('BEML', 'Layout'), ('BHEL', 'Layout'), ('BSM', 'Extension'),\n",
       "       ('BTM', '1st', 'Stage'), ('BTM', '2nd', 'Stage'),\n",
       "       ('BTM', '4th', 'Stage'), ('BTM', 'Layout'), ('Baba', 'Nagar'),\n",
       "       ('Babusapalaya',), ('Badavala', 'Nagar'), ('Bagalakunte',),\n",
       "       ('Bagalur',), ('Bagalur', 'Main', 'Road'), ('Balagere',),\n",
       "       ('Balaji', 'Gardens', 'Layout'), ('Banagiri', 'Nagar'),\n",
       "       ('Banashankari',), ('Banashankari', 'Stage', 'II'),\n",
       "       ('Banashankari', 'Stage', 'III'), ('Banashankari', 'Stage', 'V'),\n",
       "       ('Banashankari', 'Stage', 'VI'), ('Banaswadi',),\n",
       "       ('Banjara', 'Layout'), ('Bank', 'Of', 'Baroda', 'Colony'),\n",
       "       ('Bannerghatta',), ('Bannerghatta', 'Road'), ('Basapura',),\n",
       "       ('Basava', 'Nagar'), ('Basavanagara',), ('Basavanapura',),\n",
       "       ('Basavangudi',), ('Basavanna', 'Nagar'),\n",
       "       ('Basaveshwara', 'Nagar'), ('Basaveshwara', 'Nagar', 'Yelahanka'),\n",
       "       ('Battarahalli',), ('Begur',), ('Begur', 'Road'), ('Belathur',),\n",
       "       ('Belatur',), ('Bellandur',), ('Bellari', 'Road'),\n",
       "       ('Bendiganahalli',), ('Benson', 'Town'), ('Bethel', 'Nagar'),\n",
       "       ('Bettahalsoor',), ('Bhagyalakshmi', 'Avenue'),\n",
       "       ('Bharathi', 'Nagar'), ('Bhoganhalli',), ('Bhoopsandra',),\n",
       "       ('Bhuvaneshwari', 'Nagar'), ('Bhuvaneswari', 'Nagar'), ('Bidadi',),\n",
       "       ('Bidrahalli',), ('Bikasipura',), ('Bileshivale',),\n",
       "       ('Billekahalli',), ('Binny', 'Pete'), ('Bisuvanahalli',),\n",
       "       ('Bommanahalli',), ('Bommasandra',),\n",
       "       ('Bommasandra', 'Industrial', 'Area'), ('Bommenahalli',),\n",
       "       ('Brindavan', 'Layout'), ('Brindavan', 'Nagar'),\n",
       "       ('Brooke', 'Bond', 'First', 'Cross'), ('Brookefield',),\n",
       "       ('Budigere',), ('Byadarahalli',), ('Byagadadhenahalli',),\n",
       "       ('Byatarayanapura',), ('Byrasandra',), ('Byrathi', 'Village'),\n",
       "       ('CQAL', 'Layout'), ('CV', 'Raman', 'Nagar'),\n",
       "       ('Cambridge', 'Layout'), ('Canara', 'Bank', 'Colony'),\n",
       "       ('Canara', 'Bank', 'Layout'), ('Carmelaram',),\n",
       "       ('Celebrity', 'Paradise', 'Layout'), ('Challaghatta',),\n",
       "       ('Chamrajpet',), ('Chamundi', 'Nagar'), ('Chandapura',),\n",
       "       ('Chandra', 'Layout'), ('Channasandra',),\n",
       "       ('Channasandra', 'Layout'), ('Chelekare',),\n",
       "       ('Chennammana', 'Kere'), ('Chennammanakere', 'Achukattu'),\n",
       "       ('Chennappa', 'Layout'), ('Chikka', 'Banaswadi'),\n",
       "       ('Chikka', 'Tirupathi'), ('Chikkabanavar',),\n",
       "       ('Chikkadunnasandra',), ('Chikkakannalli',), ('Chikkalasandra',),\n",
       "       ('Chikkasandra',), ('Chikkathoguru',),\n",
       "       ('Chikku', 'Lakshmaiah', 'Layout'), ('Chinnapanahalli',),\n",
       "       ('Chokkanahalli',), ('Cholanayakanahalli',), ('Choodasandra',),\n",
       "       ('Church', 'Street'), ('Classic', 'Paradise', 'Layout'),\n",
       "       ('Cleveland', 'Town'), ('Coconut', 'Grove', 'Layout'),\n",
       "       ('Coffee', 'Board', 'Layout'), ('Cooke', 'Town'), ('Cox', 'Town'),\n",
       "       ('Crimson', 'Layout'), ('Cunningham', 'Road'),\n",
       "       ('D', 'Group', 'Employees', 'Layout'),\n",
       "       ('Daadys', 'Gaarden', 'Layout'), ('Dairy', 'Circle'),\n",
       "       ('Dasanapura',), ('Dasarahalli',), ('Defence', 'Colony'),\n",
       "       ('Dena', 'Bank', 'Colony'), ('Devanahalli',),\n",
       "       ('Devanahalli', 'Int.', 'Airport'), ('Devarachikkanahalli',),\n",
       "       ('Devasthanagalu',), ('Devi', 'Nagar'), ('Dinnur',),\n",
       "       ('Divya', 'Unnathi', 'Layout'), ('Doctors', 'Layout'),\n",
       "       ('Dodda', 'Banaswadi'), ('Dodda', 'Kempaiah', 'Layout'),\n",
       "       ('Dodda', 'Nekkundi'), ('Dodda', 'Nekkundi', 'Extension'),\n",
       "       ('Doddaballapur',), ('Doddabanahalli',), ('Doddabidrakallu',),\n",
       "       ('Doddabommasandra',), ('Doddagubbi',), ('Doddakallasandra',),\n",
       "       ('Doddakammanahalli',), ('Doddakannelli',),\n",
       "       ('Doddanakundi', 'Industrial', 'Area', '2'), ('Doddanekundi',),\n",
       "       ('Doddathoguru',), ('Dodsworth', 'Layout'),\n",
       "       ('Dollar', 'Scheme', 'Colony'), ('Dollars', 'Colony'),\n",
       "       ('Dollars', 'Layout'), ('Domlur',), ('Domlur', 'Layout'),\n",
       "       ('Dommasandra',), ('Doopanahalli',), ('Dooravani', 'Nagar'),\n",
       "       ('Dr', 'Shivarama', 'Karantha', 'Nagar'), ('Dwarka', 'Nagar'),\n",
       "       ('ECC', 'Road,', 'Whitefield,', ''), ('EPIP', 'Zone'),\n",
       "       ('Ejipura',), ('Electronic', 'City'),\n",
       "       ('Electronic', 'City', 'Phase', 'II'),\n",
       "       ('Electronic', 'city', 'Phase', '1,', ''),\n",
       "       ('Electronics', 'City', 'Phase', '1'),\n",
       "       ('Esther', 'Enclave', 'Layout'), ('Ferrar', 'Nagar'),\n",
       "       ('Frazer', 'Town'), ('Friends', 'Colony'), ('GD', 'Layout'),\n",
       "       ('GM', 'Palaya'), ('Ganesha', 'Block'), ('Ganga', 'Nagar'),\n",
       "       ('Garebhavipalya',), ('Garudachar', 'Palya'), ('Gattahalli',),\n",
       "       ('Gaurava', 'Nagar'), ('Geddalahalli',), ('Giri', 'Nagar'),\n",
       "       ('Gkvk', 'Layout'), ('Glass', 'Factory', 'Layout'),\n",
       "       ('Gnana', 'Bharathi'), ('Gokula', 'Extension'), ('Gollahalli',),\n",
       "       ('Gollarapalya', 'Hosahalli'), ('Gopalapura',),\n",
       "       ('Gopalkrishna', 'Nagar'), ('Gottigere',), ('Govindapura',),\n",
       "       ('Govindaraja', 'Nagar', 'Ward'), ('Govindpura',),\n",
       "       ('Gowdanapalya',), ('Green', 'Domain', 'Layout'),\n",
       "       ('Green', 'Garden', 'Layout'), ('Green', 'Glen', 'Layout'),\n",
       "       ('Green', 'View', 'Layout'), ('Green', 'Woods', 'Layout'),\n",
       "       ('Gubbalala',), ('Guddadahalli',), ('Gulimangala',), ('Gunjur',),\n",
       "       ('Gunjur', 'Palya'), ('HAL', '2nd', 'Stage'),\n",
       "       ('HAL', '3rd', 'Stage'), ('HBR', 'Layout'), ('HMT', 'Layout'),\n",
       "       ('HOSUR', 'MAIN', 'ROAD'), ('HRBR', 'Layout'), ('HSR', 'Layout'),\n",
       "       ('Hadosiddapura',), ('Hagadur',), ('Hallehalli',),\n",
       "       ('Hanumanth', 'Nagar'), ('Hanumantha', 'Nagar'),\n",
       "       ('Haralur', 'Road'), ('Harappanahalli',), ('Harlur',),\n",
       "       ('Harsha', 'Layout'), ('Hebbal',), ('Hebbal', 'Kempapura'),\n",
       "       ('Hegde', 'Nagar'), ('Hegganahalli',), ('Hennur',),\n",
       "       ('Hennur', 'Bande'), ('Hennur', 'Gardens'), ('Hennur', 'Road'),\n",
       "       ('Herohalli',), ('Hessarghatta',), ('Himagiri', 'Meadows'),\n",
       "       ('Hiremath', 'Layout'), ('Hongasandra',), ('Hoodi',),\n",
       "       ('Hoodi', 'Circle,', ''), ('Hoodi', 'Layout'),\n",
       "       ('Horamavu', 'Agara'), ('Horamavu', 'Banaswadi'), ('Hormavu',),\n",
       "       ('Hosa', 'Road'), ('Hosahalli', 'Extension'), ('Hosakerehalli',),\n",
       "       ('Hosakerehalli', 'Layout'), ('Hosapalya',), ('Hoskote',),\n",
       "       ('Hosur', 'Road'), ('Hoysalanagar',), ('Hulimavu',),\n",
       "       ('Hunasamaranahalli',), ('Huskur',), ('ISRO', 'Layout'),\n",
       "       ('ITI', 'Layout'), ('ITPL',), ('Iblur', 'Village'),\n",
       "       ('Immadihalli',), ('Indira', 'Nagar'), ('Infantry', 'Road'),\n",
       "       ('Ittamadu',), ('J', 'C', 'Nagar'), ('JCR', 'Layout'),\n",
       "       ('JP', 'Nagar'), ('JP', 'Nagar', '7th', 'Phase,', ''),\n",
       "       ('JP', 'Nagar', '8th', 'Phase,', ''), ('Jai', 'Bheema', 'Nagar'),\n",
       "       ('Jakkasandra', 'Extension'), ('Jakkur',),\n",
       "       ('Jakkur', 'Plantation'), ('Jakkuru', 'Layout'), ('Jalahalli',),\n",
       "       ('Jalahalli', 'East'), ('Jalahalli', 'West'),\n",
       "       ('Janatha', 'Colony'), ('Jaya', 'Mahal', 'layout'), ('Jayamahal',),\n",
       "       ('Jayamahal', 'Extension'), ('Jayanagar',), ('Jayanti', 'Nagar'),\n",
       "       ('Jeevan', 'bima', 'nagar'), ('Jigani',), ('Jinkethimmanahalli',),\n",
       "       ('Jnana', 'Ganga', 'Nagar'), ('Jnanabharathi', 'Layout'),\n",
       "       ('Judicial', 'Layout'),\n",
       "       ('Judicial', 'Layout,', 'Kanakapura', 'Road,', ''),\n",
       "       ('Jyothi', 'Nagar'), ('KEB', 'Colony'), ('KR', 'Garden'),\n",
       "       ('KR', 'Layout'), ('KR', 'Puram'), ('KSRTC', 'Layout'),\n",
       "       ('KUDLU', 'MAIN', 'ROAD'), ('Kachanayakanahalli',),\n",
       "       ('Kacharakanahalli',), ('Kada', 'Agrahara'), ('Kadabagere',),\n",
       "       ('Kadubeesanahalli',), ('Kadugodi',), ('Kadugondanahalli',),\n",
       "       ('Kaggadasapura',), ('Kaggalipura',), ('Kaikondrahalli',),\n",
       "       ('Kalena', 'Agrahara'), ('Kalkere',), ('Kallumantapa',),\n",
       "       ('Kalyan', 'nagar'), ('Kamakshipalya',), ('Kamakya', 'Layout'),\n",
       "       ('Kamala', 'Nagar'), ('Kambipura',), ('Kammagondahalli',),\n",
       "       ('Kammanahalli',), ('Kammasandra',), ('Kanaka', 'Nagar'),\n",
       "       ('Kanakapura',), ('Kanakpura', 'Road'), ('Kannamangala',),\n",
       "       ('Karuna', 'Nagar'), ('Kasavanhalli',), ('Kashi', 'Nagar'),\n",
       "       ('Kasturi', 'Nagar'), ('Kathriguppe',), ('Kattigenahalli',),\n",
       "       ('Kaval', 'Byrasandra'), ('Kaverappa', 'Layout'),\n",
       "       ('Kaveri', 'Nagar'), ('Kempapura',), ('Kenchenahalli',),\n",
       "       ('Kenchenhalli',), ('Kengeri',), ('Kengeri', 'Hobli'),\n",
       "       ('Kengeri', 'Satellite', 'Town'), ('Kereguddadahalli',),\n",
       "       ('Keshava', 'Nagar'), ('Kirloskar', 'Layout'), ('Kithaganur',),\n",
       "       ('Kodathi',), ('Kodbisanhalli',), ('Kodichikkanahalli',),\n",
       "       ('Kodigehaali',), ('Kodigehalli',), ('Kodihalli',), ('Kodipalya',),\n",
       "       ('Kogilu',), ('Konanakunte',), ('Konanakunte', 'Cross'),\n",
       "       ('Konena', 'Agrahara'), ('Koramangala',),\n",
       "       ('Koramangala', 'Industrial', 'Layout'), ('Kothannur',),\n",
       "       ('Kothanur',), ('Kothnoor', 'Dinne'),\n",
       "       ('Krishna', 'Reddy', 'Layout'), ('Kudlu',), ('Kudlu', 'Gate'),\n",
       "       ('Kullappa', 'Colony'), ('Kumara', 'Park'), ('Kumarapalli',),\n",
       "       ('Kumaraswami', 'Layout'), ('Kumbena', 'Agrahara'),\n",
       "       ('Kundalahalli',), ('Kundalahalli', 'Colony'), ('Kurubarahalli',),\n",
       "       ('Kuvempu', 'Nagar'), ('LB', 'Shastri', 'Nagar'), ('Laggere',),\n",
       "       ('Lake', 'City'), ('Lakshmiamma', 'Garden'),\n",
       "       ('Lakshminarayana', 'Pura'), ('Lakshmipura',),\n",
       "       ('Lal', 'Bahadur', 'Shastri', 'Nagar'), ('Langford', 'Town'),\n",
       "       ('Lavakusha', 'Nagar'), ('Lavelle', 'Road'),\n",
       "       ('Laxmi', 'Sagar', 'Layout'), ('Lingadheeranahalli',),\n",
       "       ('Lingarajapuram',), ('Lottegolla', 'Halli'),\n",
       "       ('MCECHS', '', 'layout'), ('MLA', 'Layout'), ('MS', 'Pallya'),\n",
       "       ('Madiwala',), ('Magadi', 'Road'), ('Mahadevpura',),\n",
       "       ('Mahaganapathy', 'Nagar'), ('Mahalakshmi', 'Layout'),\n",
       "       ('Mahalakshmi', 'Puram'), ('Maithri', 'Layout'), ('Makali',),\n",
       "       ('Mallasandra',), ('Mallathahalli',), ('Malleshpalya',),\n",
       "       ('Malleshwaram',), ('Manayata', 'Tech', 'Park'),\n",
       "       ('Mangammanapalya',), ('Manjunatha', 'Layout'),\n",
       "       ('Manorayana', 'Palya'), ('Maragondanahalli',), ('Marasandra',),\n",
       "       ('Marathahalli',), ('Marenahalli',), ('Margondanahalli',),\n",
       "       ('Mariyannapalya',), ('Marsur',), ('Maruthi', 'Nagar'),\n",
       "       ('Maruthi', 'Sevanagar'), ('Mathikere',),\n",
       "       ('Mathikere', 'Extension'), ('Medahalli',), ('Meenakunte',),\n",
       "       ('Mico', 'Layout'), ('Moodalapalya',), ('Motappa', 'Layout'),\n",
       "       ('Muneshwara', 'Nagar'), ('Munivenkatppa', 'Layout'),\n",
       "       ('Munnekollal',), ('Murugeshpalya',),\n",
       "       ('Muthurayya', 'Swamy', 'Layout'), ('Mylasandra',),\n",
       "       ('Mysore', 'Road'), ('NGR', 'Layout'), ('NRI', 'Layout'),\n",
       "       ('NS', 'Palya'), ('Nagadevanahalli',), ('Naganathapura',),\n",
       "       ('Nagappa', 'Reddy', 'Layout'), ('Nagaraja', 'Garden'),\n",
       "       ('Nagarbhavi',), ('Nagasandra',), ('Nagashetty', 'Halli'),\n",
       "       ('Nagavara',), ('Nagavarapalya',), ('Nagawara', 'Junction'),\n",
       "       ('Nagondanahalli',), ('Naidu', 'Layout'), ('Nallurhalli',),\n",
       "       ('Nandi', 'Hills'), ('Nandini', 'Layout'), ('Nanjappa', 'Garden'),\n",
       "       ('Nanjappa', 'Layout'), ('Narayana', 'Nagar', '1st', 'Block'),\n",
       "       ('Narayanapura',), ('Nayandanahalli',),\n",
       "       ('Near', 'International', 'Airport'), ('Neeladri', 'Nagar'),\n",
       "       ('Neelamangala',), ('Nehru', 'Nagar'), ('Nelamangala',),\n",
       "       ('New', 'Gurappana', 'Palya'), ('New', 'Thippasandra'),\n",
       "       ('Ngef', 'Layout'), ('Nobo', 'Nagar'), ('Nyanappana', 'Halli'),\n",
       "       ('OLd', 'Gurappanapalya'), ('OMBR', 'Layout'),\n",
       "       ('Off', 'Sarjapur', 'Road,', ''), ('Old', 'Airport', 'Road'),\n",
       "       ('Old', 'Madras', 'Road'), ('Omarbagh', 'Layout'),\n",
       "       ('Outer', 'Ring', 'Road', 'East'), ('P&T', 'Layout'),\n",
       "       ('Padmanabhanagar',), ('Pai', 'Layout'), ('Palace', 'Road'),\n",
       "       ('Palanahalli',), ('Pampa', 'Extension'), ('Panathur',),\n",
       "       ('Panduranga', 'Nagar'), ('Parappana', 'Agrahara'),\n",
       "       ('Patelappa', 'Layout'), ('Pattanagere',),\n",
       "       ('Pattandur', 'Agrahara'), ('Peenya',),\n",
       "       ('Phase', '1', 'Kammasandra'), ('Poorna', 'Pragna', 'Layout'),\n",
       "       ('Poornapragna', 'Housing', 'Society', 'Layout'),\n",
       "       ('Postal', 'Colony'), ('Pragathi', 'Nagar'),\n",
       "       ('Prashanth', 'Nagar'), ('Prithvi', 'Layout'),\n",
       "       ('Pulkeshi', 'Nagar'), ('Puttanahalli',), ('R.T.', 'Nagar'),\n",
       "       ('RMV',), ('RMV', '2nd', 'Stage'), ('RMV', 'Extension'),\n",
       "       ('RMV', 'Extension', 'Stage', '2'), ('RPC', 'layout'),\n",
       "       ('RR', 'Layout'), ('RWF', 'West', 'Colony'),\n",
       "       ('Race', 'Course', 'Road'), ('Rachenahalli',),\n",
       "       ('Raghavendra', 'Layout'), ('Raghavendra', 'Nagar'),\n",
       "       ('Raghuvanahalli',), ('Raja', 'Rajeshwari', 'Nagar'),\n",
       "       ('Raja', 'Rajeshwari', 'Nagar', '5th', 'Stage'),\n",
       "       ('Rajaji', 'Nagar'), ('Rajankunte',), ('Rajarajeshwari', 'Nagara'),\n",
       "       ('Rajarajeshwari', 'nagar'), ('Rajarajeshwarinagar',),\n",
       "       ('Rajiv', 'Gandhi', 'Nagar'), ('Rajiv', 'Nagar'),\n",
       "       ('Ramagondanahalli',), ('Ramakrishnappa', 'Layout'),\n",
       "       ('Ramamurthy', 'Nagar'), ('Ramamurthy', 'Nagar', 'Extension'),\n",
       "       ('Ramanashree', 'Enclave'), ('Ramanjaneyanagar',),\n",
       "       ('Ramesh', 'Nagar'), ('Rayasandra',),\n",
       "       ('Reliaable', 'Tranquil', 'Layout'), ('Remco', 'Bhel', 'Layout'),\n",
       "       ('Rest', 'House', 'Road'), ('Richards', 'Town'),\n",
       "       ('Richmond', 'Town'), ('Roopena', 'Agrahara'),\n",
       "       ('Rustam', 'Bagh', 'Layout'), ('SMV', 'layout'),\n",
       "       ('SRINIVASAPURA',), ('Sadanand', 'Nagar'), ('Sadaramangala',),\n",
       "       ('Sadashiva', 'Nagar'), ('Sahakara', 'Nagar'), ('Sai', 'Gardens'),\n",
       "       ('Samethanahalli',), ('Sampangi', 'Rama', 'Nagar'),\n",
       "       ('Sampigehalli',), ('Sanjay', 'nagar'), ('Sanjeevini', 'Nagar'),\n",
       "       ('Sanne', 'Amanikere'), ('Sarakki', 'Nagar'), ('Sarjapur',),\n",
       "       ('Sarjapur', '', 'Road'), ('Sarjapur', 'Road,', ''),\n",
       "       ('Sarjapura', '-', 'Attibele', 'Road'), ('Sarvabhouma', 'Nagar'),\n",
       "       ('Sathya', 'Layout'), ('Sathya', 'Sai', 'Layout'),\n",
       "       ('Sector', '1', 'HSR', 'Layout'), ('Sector', '2', 'HSR', 'Layout'),\n",
       "       ('Sector', '6', 'HSR', 'Layout'), ('Sector', '7', 'HSR', 'Layout'),\n",
       "       ('Seegehalli',), ('Seetharampalya',), ('Seshadripuram',),\n",
       "       ('Shampura',), ('Shankarapuram',), ('Shanthala', 'Nagar'),\n",
       "       ('Shanthi', 'Layout'), ('Shanti', 'Nagar'),\n",
       "       ('Shantiniketan', 'Layout'), ('Shettigere',), ('Shetty', 'Halli'),\n",
       "       ('Shikaripalya',), ('Shingapura',), ('Shirdi', 'Sai', 'Layout'),\n",
       "       ('Shivaji', 'Nagar'), ('Shree', 'Ananth', 'Nagar', 'Layout'),\n",
       "       ('Siddapura',), ('Sidedahalli',), ('Silk', 'Board'),\n",
       "       ('Silver', 'Springs', 'Layout'), ('Singanayakanahalli',),\n",
       "       ('Singapura', 'Village'), ('Singasandra',),\n",
       "       ('Singena', 'Agrahara'), ('Sneha', 'Colony'),\n",
       "       ('Somasundara', 'Palya'), ('Someshwara', 'Layout'), ('Sompura',),\n",
       "       ('Sonnenahalli',), ('Soundarya', 'Layout'),\n",
       "       ('Sri', 'Balaji', 'Krupa', 'Layout'), ('Sri', 'Sai', 'Layout'),\n",
       "       ('Sri', 'Venkateshpura', 'Layout'), ('Srinagar',),\n",
       "       ('Srinivas', 'Colony'), ('Srinivasa', 'Nagar'), ('Srirampura',),\n",
       "       ('Srirampuram',), ('St.', \"John's\", 'Road'),\n",
       "       ('Stage-4', 'Bommanahalli'), ('Subash', 'Nagar'),\n",
       "       ('Subramanyapura',), ('Suddaguntepalya',), ('Sultan', 'Palaya'),\n",
       "       ('Sunkadakatte',), ('Surabhi', 'Layout'), ('Suraksha', 'Nagar'),\n",
       "       ('Syndicate', 'Bank', 'Colony'), ('T', 'Dasarahalli'),\n",
       "       ('T.C', 'PALYA'), ('TC', 'Palaya'), ('Tala', 'Cauvery', 'Layout'),\n",
       "       ('Talaghattapura',), ('Tasker', 'Town'), ('Tata', 'Nagar'),\n",
       "       ('Tavarekere',), ('Teachers', 'Colony'), ('Tejaswini', 'Nagar'),\n",
       "       ('Telecom', 'Layout'), ('Thanisandra',),\n",
       "       ('Thanisandra', 'Main', 'Road,', ''),\n",
       "       ('Thanisandra', 'main', 'road'), ('Thigalarapalya',),\n",
       "       ('Thippasandra',), ('Thirumenahalli',), ('Thomas', 'Town'),\n",
       "       ('Thubarahalli',), ('Thyagaraja', 'Nagar'), ('Tigalarpalya',),\n",
       "       ('Tindlu',), ('Tirumanahalli',), ('Tumkur', 'Road'),\n",
       "       ('Tunganagara',), ('Udaya', 'Nagar'), ('Udayapur', 'Village'),\n",
       "       ('Ullal', 'Uppanagar'), ('Ulsoor',), ('Upadhyaya', 'Layout'),\n",
       "       ('Upkar', 'Layout'), ('Uttarahalli',), ('VGP', 'Layout'),\n",
       "       ('Vadarpalya',), ('Vaderahalli',), ('Vaishnavi', 'Layout'),\n",
       "       ('Vajarahalli',), ('Varanasi',), ('Varsova', 'Layout'),\n",
       "       ('Varthur',), ('Varthur', 'Road'), ('Varthur', 'Road,', ''),\n",
       "       ('Vasanth', 'nagar'), ('Vasantha', 'Vallabha', 'Nagar'),\n",
       "       ('Vasanthapura',), ('Veer', 'Sandra'), ('Veerannapalya',),\n",
       "       ('Veersandra',), ('Venkatadri', 'Layout'), ('Venkatapura',),\n",
       "       ('Venugopal', 'Reddy', 'Layout'), ('Versova', 'Layout'),\n",
       "       ('Vibuthipura',), ('Victoria', 'Layout'), ('Vidyaranyapura',),\n",
       "       ('Vignana', 'Nagar'), ('Vijaya', 'Bank', 'Layout'),\n",
       "       ('Vijayanagar',), ('Vijinapura',), ('Vimanapura',),\n",
       "       ('Vinayak', 'Nagar'), ('Vinayaka', 'Nagar'), ('Virat', 'Nagar'),\n",
       "       ('Virupakshapura',), ('Vishveshwarya', 'Layout'),\n",
       "       ('Vishwanatha', 'Nagenahalli'), ('Vishwapriya', 'Layout'),\n",
       "       ('Vishwapriya', 'Nagar'), ('Vittal', 'Nagar'), ('Vittasandra',),\n",
       "       ('Vivek', 'Nagar'), ('Volagerekallahalli',), ('Whitefield',),\n",
       "       ('Whitefield,', ''), ('Wilson', 'Garden'), ('Yarandahalli',),\n",
       "       ('Yelachenahalli',), ('Yelahanka',), ('Yelahanka', 'New', 'Town'),\n",
       "       ('Yelenahalli',), ('Yemlur',), ('Yeshwanthpur',),\n",
       "       ('Yeshwanthpur', 'Industrial', 'Suburb'), ('frazertown',),\n",
       "       ('manyata', 'park'), ('tc.palya',)], dtype=object)"
      ]
     },
     "execution_count": 55,
     "metadata": {},
     "output_type": "execute_result"
    }
   ],
   "source": [
    "df7['location'].unique()"
   ]
  },
  {
   "cell_type": "code",
   "execution_count": 56,
   "id": "3a4de67a-50d7-4e76-86a8-4244f7d1b07e",
   "metadata": {},
   "outputs": [],
   "source": [
    "def process_location_tuple(loc_tuple):\n",
    "    if isinstance(loc_tuple, tuple):\n",
    "        return ' '.join(part for part in loc_tuple if part and str(part).strip() != '')\n",
    "    else:\n",
    "        return str(loc_tuple)\n",
    "\n",
    "df7['location'] = df7['location'].apply(process_location_tuple)\n"
   ]
  },
  {
   "cell_type": "code",
   "execution_count": 57,
   "id": "0712a72d-9c78-4ac1-ae00-af64dfb98a56",
   "metadata": {},
   "outputs": [
    {
     "data": {
      "text/plain": [
       "0    Devarabeesana Halli\n",
       "1    Devarabeesana Halli\n",
       "2    Devarabeesana Halli\n",
       "3    Devarachikkanahalli\n",
       "4    Devarachikkanahalli\n",
       "Name: location, dtype: object"
      ]
     },
     "execution_count": 57,
     "metadata": {},
     "output_type": "execute_result"
    }
   ],
   "source": [
    "df7.location.head()"
   ]
  },
  {
   "cell_type": "code",
   "execution_count": 58,
   "id": "40f082c7-5a58-457f-b8d5-f838ff351c76",
   "metadata": {},
   "outputs": [
    {
     "data": {
      "text/plain": [
       "(7508, 6)"
      ]
     },
     "execution_count": 58,
     "metadata": {},
     "output_type": "execute_result"
    }
   ],
   "source": [
    "def remove_bhk_outliers(df):\n",
    "    exclude_indices = np.array([])\n",
    "    for location, location_df in df.groupby('location'):\n",
    "        # Initialize bhk_stats as a dictionary, not a tuple\n",
    "        bhk_stats = {}\n",
    "        for bhk, bhk_df in location_df.groupby('bhk'):\n",
    "\n",
    "            bhk_stats[bhk] = {\n",
    "                'mean': np.mean(bhk_df.price_per_sqft),\n",
    "                'std': np.std(bhk_df.price_per_sqft),\n",
    "                'count': bhk_df.shape[0]\n",
    "            }\n",
    "        for bhk, bhk_df in location_df.groupby('bhk'):\n",
    "            stats = bhk_stats.get(bhk - 1)\n",
    "            if stats and stats['count'] > 5:\n",
    "                exclude_indices = np.append(exclude_indices, bhk_df[bhk_df.price_per_sqft < (stats['mean'])].index.values)\n",
    "    return df.drop(exclude_indices, axis='index')\n",
    "\n",
    "df8 = remove_bhk_outliers(df7)\n",
    "df8.shape"
   ]
  },
  {
   "cell_type": "code",
   "execution_count": 59,
   "id": "3ce6e462-c0b8-4178-a9c3-d36e3659df4f",
   "metadata": {},
   "outputs": [
    {
     "data": {
      "image/png": "[encoded data removed]",
      "text/plain": [
       "<Figure size 1500x1000 with 1 Axes>"
      ]
     },
     "metadata": {},
     "output_type": "display_data"
    }
   ],
   "source": [
    "plot_scatter_chart(df8,'Hebbal')"
   ]
  },
  {
   "cell_type": "code",
   "execution_count": 60,
   "id": "3689ea49-f4f0-4a00-89db-bc1997103749",
   "metadata": {},
   "outputs": [
    {
     "data": {
      "text/plain": [
       "Text(0, 0.5, 'Count')"
      ]
     },
     "execution_count": 60,
     "metadata": {},
     "output_type": "execute_result"
    },
    {
     "data": {
      "image/png": "[encoded data removed]",
      "text/plain": [
       "<Figure size 2000x1000 with 1 Axes>"
      ]
     },
     "metadata": {},
     "output_type": "display_data"
    }
   ],
   "source": [
    "matplotlib.rcParams['figure.figsize'] = (20,10)\n",
    "plt.hist(df8.price_per_sqft,rwidth=0.8)\n",
    "plt.xlabel(\"Price Per Squre feet\")\n",
    "plt.ylabel(\"Count\")"
   ]
  },
  {
   "cell_type": "markdown",
   "id": "e1b7772b-f614-4957-bcf0-ecbef9dfe59f",
   "metadata": {},
   "source": [
    "<h1 style=\"font-size: 25px;\">Outlier Removal Using Bathrooms Feature</h1>"
   ]
  },
  {
   "cell_type": "code",
   "execution_count": 61,
   "id": "5f5cd596-7d40-4a34-bf21-2e8ce26bc5e9",
   "metadata": {},
   "outputs": [
    {
     "data": {
      "text/plain": [
       "array([ 3.,  2.,  1.,  4.,  5.,  8.,  9.,  6., 14.,  7., 12.])"
      ]
     },
     "execution_count": 61,
     "metadata": {},
     "output_type": "execute_result"
    }
   ],
   "source": [
    "df8.bath.unique()"
   ]
  },
  {
   "cell_type": "code",
   "execution_count": 62,
   "id": "f63cb2d8-d64a-4fc3-a266-7c87b96985eb",
   "metadata": {},
   "outputs": [
    {
     "data": {
      "text/html": [
       "<div>\n",
       "<style scoped>\n",
       "    .dataframe tbody tr th:only-of-type {\n",
       "        vertical-align: middle;\n",
       "    }\n",
       "\n",
       "    .dataframe tbody tr th {\n",
       "        vertical-align: top;\n",
       "    }\n",
       "\n",
       "    .dataframe thead th {\n",
       "        text-align: right;\n",
       "    }\n",
       "</style>\n",
       "<table border=\"1\" class=\"dataframe\">\n",
       "  <thead>\n",
       "    <tr style=\"text-align: right;\">\n",
       "      <th></th>\n",
       "      <th>location</th>\n",
       "      <th>total_sqft</th>\n",
       "      <th>bath</th>\n",
       "      <th>price</th>\n",
       "      <th>bhk</th>\n",
       "      <th>price_per_sqft</th>\n",
       "    </tr>\n",
       "  </thead>\n",
       "  <tbody>\n",
       "    <tr>\n",
       "      <th>779</th>\n",
       "      <td>BTM 1st Stage</td>\n",
       "      <td>3300.0</td>\n",
       "      <td>14.0</td>\n",
       "      <td>500.0</td>\n",
       "      <td>9</td>\n",
       "      <td>15151.515152</td>\n",
       "    </tr>\n",
       "    <tr>\n",
       "      <th>6181</th>\n",
       "      <td>Neeladri Nagar</td>\n",
       "      <td>4000.0</td>\n",
       "      <td>12.0</td>\n",
       "      <td>160.0</td>\n",
       "      <td>10</td>\n",
       "      <td>4000.000000</td>\n",
       "    </tr>\n",
       "  </tbody>\n",
       "</table>\n",
       "</div>"
      ],
      "text/plain": [
       "            location  total_sqft  bath  price  bhk  price_per_sqft\n",
       "779    BTM 1st Stage      3300.0  14.0  500.0    9    15151.515152\n",
       "6181  Neeladri Nagar      4000.0  12.0  160.0   10     4000.000000"
      ]
     },
     "execution_count": 62,
     "metadata": {},
     "output_type": "execute_result"
    }
   ],
   "source": [
    "df8[df8.bath>10]"
   ]
  },
  {
   "cell_type": "code",
   "execution_count": 63,
   "id": "370df070-0729-434b-9565-3f9417cc5474",
   "metadata": {},
   "outputs": [
    {
     "data": {
      "text/plain": [
       "Text(0, 0.5, 'Count')"
      ]
     },
     "execution_count": 63,
     "metadata": {},
     "output_type": "execute_result"
    },
    {
     "data": {
      "image/png": "[encoded data removed]",
      "text/plain": [
       "<Figure size 2000x1000 with 1 Axes>"
      ]
     },
     "metadata": {},
     "output_type": "display_data"
    }
   ],
   "source": [
    "plt.hist(df8.bath,rwidth=0.8)\n",
    "plt.xlabel(\"No. of Bathrooms\")\n",
    "plt.ylabel(\"Count\")"
   ]
  },
  {
   "cell_type": "markdown",
   "id": "b6d22ff7-8fca-464b-83c7-719ce33649a7",
   "metadata": {},
   "source": [
    "It is unusual to have 2 more bathrooms than number of bedrooms in a home"
   ]
  },
  {
   "cell_type": "code",
   "execution_count": 64,
   "id": "5f3c6faa-73c8-452b-b9a2-713157d3b493",
   "metadata": {},
   "outputs": [
    {
     "data": {
      "text/html": [
       "<div>\n",
       "<style scoped>\n",
       "    .dataframe tbody tr th:only-of-type {\n",
       "        vertical-align: middle;\n",
       "    }\n",
       "\n",
       "    .dataframe tbody tr th {\n",
       "        vertical-align: top;\n",
       "    }\n",
       "\n",
       "    .dataframe thead th {\n",
       "        text-align: right;\n",
       "    }\n",
       "</style>\n",
       "<table border=\"1\" class=\"dataframe\">\n",
       "  <thead>\n",
       "    <tr style=\"text-align: right;\">\n",
       "      <th></th>\n",
       "      <th>location</th>\n",
       "      <th>total_sqft</th>\n",
       "      <th>bath</th>\n",
       "      <th>price</th>\n",
       "      <th>bhk</th>\n",
       "      <th>price_per_sqft</th>\n",
       "    </tr>\n",
       "  </thead>\n",
       "  <tbody>\n",
       "    <tr>\n",
       "      <th>779</th>\n",
       "      <td>BTM 1st Stage</td>\n",
       "      <td>3300.0</td>\n",
       "      <td>14.0</td>\n",
       "      <td>500.0</td>\n",
       "      <td>9</td>\n",
       "      <td>15151.515152</td>\n",
       "    </tr>\n",
       "    <tr>\n",
       "      <th>1972</th>\n",
       "      <td>Chikkabanavar</td>\n",
       "      <td>2460.0</td>\n",
       "      <td>7.0</td>\n",
       "      <td>80.0</td>\n",
       "      <td>4</td>\n",
       "      <td>3252.032520</td>\n",
       "    </tr>\n",
       "    <tr>\n",
       "      <th>6115</th>\n",
       "      <td>Nagasandra</td>\n",
       "      <td>7000.0</td>\n",
       "      <td>8.0</td>\n",
       "      <td>450.0</td>\n",
       "      <td>4</td>\n",
       "      <td>6428.571429</td>\n",
       "    </tr>\n",
       "    <tr>\n",
       "      <th>7429</th>\n",
       "      <td>Sathya Sai Layout</td>\n",
       "      <td>11338.0</td>\n",
       "      <td>9.0</td>\n",
       "      <td>1000.0</td>\n",
       "      <td>6</td>\n",
       "      <td>8819.897689</td>\n",
       "    </tr>\n",
       "    <tr>\n",
       "      <th>7908</th>\n",
       "      <td>Thanisandra</td>\n",
       "      <td>1806.0</td>\n",
       "      <td>6.0</td>\n",
       "      <td>116.0</td>\n",
       "      <td>3</td>\n",
       "      <td>6423.034330</td>\n",
       "    </tr>\n",
       "  </tbody>\n",
       "</table>\n",
       "</div>"
      ],
      "text/plain": [
       "               location  total_sqft  bath   price  bhk  price_per_sqft\n",
       "779       BTM 1st Stage      3300.0  14.0   500.0    9    15151.515152\n",
       "1972      Chikkabanavar      2460.0   7.0    80.0    4     3252.032520\n",
       "6115         Nagasandra      7000.0   8.0   450.0    4     6428.571429\n",
       "7429  Sathya Sai Layout     11338.0   9.0  1000.0    6     8819.897689\n",
       "7908        Thanisandra      1806.0   6.0   116.0    3     6423.034330"
      ]
     },
     "execution_count": 64,
     "metadata": {},
     "output_type": "execute_result"
    }
   ],
   "source": [
    "df8[df8.bath>df8.bhk+2]"
   ]
  },
  {
   "cell_type": "markdown",
   "id": "6a715e9a-148b-4436-b1d3-45aa05e4fc68",
   "metadata": {},
   "source": [
    "Again the business manager has a conversation with you (i.e. a data scientist) that if you have 4 bedroom home and even if you have bathroom in all 4 rooms plus one guest bathroom, you will have total bath = total bed + 1 max. Anything above that is an outlier or a data error and can be removed"
   ]
  },
  {
   "cell_type": "code",
   "execution_count": 65,
   "id": "68729ced-5c02-4dce-96f9-3a6f6c094c1e",
   "metadata": {},
   "outputs": [
    {
     "data": {
      "text/plain": [
       "(7429, 6)"
      ]
     },
     "execution_count": 65,
     "metadata": {},
     "output_type": "execute_result"
    }
   ],
   "source": [
    "df9 = df8[df8.bath<df8.bhk+2]\n",
    "df9.shape"
   ]
  },
  {
   "cell_type": "code",
   "execution_count": 66,
   "id": "67af989e-2c0c-4f51-9e7e-53ff75b73981",
   "metadata": {},
   "outputs": [
    {
     "data": {
      "text/html": [
       "<div>\n",
       "<style scoped>\n",
       "    .dataframe tbody tr th:only-of-type {\n",
       "        vertical-align: middle;\n",
       "    }\n",
       "\n",
       "    .dataframe tbody tr th {\n",
       "        vertical-align: top;\n",
       "    }\n",
       "\n",
       "    .dataframe thead th {\n",
       "        text-align: right;\n",
       "    }\n",
       "</style>\n",
       "<table border=\"1\" class=\"dataframe\">\n",
       "  <thead>\n",
       "    <tr style=\"text-align: right;\">\n",
       "      <th></th>\n",
       "      <th>location</th>\n",
       "      <th>total_sqft</th>\n",
       "      <th>bath</th>\n",
       "      <th>price</th>\n",
       "      <th>bhk</th>\n",
       "    </tr>\n",
       "  </thead>\n",
       "  <tbody>\n",
       "    <tr>\n",
       "      <th>0</th>\n",
       "      <td>Devarabeesana Halli</td>\n",
       "      <td>1672.0</td>\n",
       "      <td>3.0</td>\n",
       "      <td>150.0</td>\n",
       "      <td>3</td>\n",
       "    </tr>\n",
       "    <tr>\n",
       "      <th>1</th>\n",
       "      <td>Devarabeesana Halli</td>\n",
       "      <td>1750.0</td>\n",
       "      <td>3.0</td>\n",
       "      <td>149.0</td>\n",
       "      <td>3</td>\n",
       "    </tr>\n",
       "    <tr>\n",
       "      <th>2</th>\n",
       "      <td>Devarabeesana Halli</td>\n",
       "      <td>1750.0</td>\n",
       "      <td>3.0</td>\n",
       "      <td>150.0</td>\n",
       "      <td>3</td>\n",
       "    </tr>\n",
       "    <tr>\n",
       "      <th>4</th>\n",
       "      <td>Devarachikkanahalli</td>\n",
       "      <td>1250.0</td>\n",
       "      <td>2.0</td>\n",
       "      <td>40.0</td>\n",
       "      <td>2</td>\n",
       "    </tr>\n",
       "    <tr>\n",
       "      <th>5</th>\n",
       "      <td>Devarachikkanahalli</td>\n",
       "      <td>1200.0</td>\n",
       "      <td>2.0</td>\n",
       "      <td>83.0</td>\n",
       "      <td>2</td>\n",
       "    </tr>\n",
       "  </tbody>\n",
       "</table>\n",
       "</div>"
      ],
      "text/plain": [
       "              location  total_sqft  bath  price  bhk\n",
       "0  Devarabeesana Halli      1672.0   3.0  150.0    3\n",
       "1  Devarabeesana Halli      1750.0   3.0  149.0    3\n",
       "2  Devarabeesana Halli      1750.0   3.0  150.0    3\n",
       "4  Devarachikkanahalli      1250.0   2.0   40.0    2\n",
       "5  Devarachikkanahalli      1200.0   2.0   83.0    2"
      ]
     },
     "execution_count": 66,
     "metadata": {},
     "output_type": "execute_result"
    }
   ],
   "source": [
    "df10 = df9.drop(['price_per_sqft'],axis = 'columns')\n",
    "df10.head()"
   ]
  },
  {
   "cell_type": "markdown",
   "id": "34beafb4-b01e-43e5-8329-3c9fdf689fd4",
   "metadata": {},
   "source": [
    "<h1 style=\"font-size: 25px;\">Use One Hot Encoding For Location</h1>"
   ]
  },
  {
   "cell_type": "code",
   "execution_count": 71,
   "id": "9bf5e762-89ab-46a1-b8e1-fdc843dff3d3",
   "metadata": {},
   "outputs": [
    {
     "data": {
      "text/html": [
       "<div>\n",
       "<style scoped>\n",
       "    .dataframe tbody tr th:only-of-type {\n",
       "        vertical-align: middle;\n",
       "    }\n",
       "\n",
       "    .dataframe tbody tr th {\n",
       "        vertical-align: top;\n",
       "    }\n",
       "\n",
       "    .dataframe thead th {\n",
       "        text-align: right;\n",
       "    }\n",
       "</style>\n",
       "<table border=\"1\" class=\"dataframe\">\n",
       "  <thead>\n",
       "    <tr style=\"text-align: right;\">\n",
       "      <th></th>\n",
       "      <th>1st Block BEL Layout</th>\n",
       "      <th>1st Block HBR Layout</th>\n",
       "      <th>1st Block HRBR Layout</th>\n",
       "      <th>1st Block Jayanagar</th>\n",
       "      <th>1st Block Koramangala</th>\n",
       "      <th>1st Phase JP Nagar</th>\n",
       "      <th>1st Stage Indira Nagar</th>\n",
       "      <th>2nd Block Hrbr Layout</th>\n",
       "      <th>2nd Block Jayanagar</th>\n",
       "      <th>2nd Phase JP Nagar</th>\n",
       "      <th>...</th>\n",
       "      <th>Yelahanka</th>\n",
       "      <th>Yelahanka New Town</th>\n",
       "      <th>Yelenahalli</th>\n",
       "      <th>Yemlur</th>\n",
       "      <th>Yeshwanthpur</th>\n",
       "      <th>Yeshwanthpur Industrial Suburb</th>\n",
       "      <th>frazertown</th>\n",
       "      <th>manyata park</th>\n",
       "      <th>south</th>\n",
       "      <th>tc.palya</th>\n",
       "    </tr>\n",
       "  </thead>\n",
       "  <tbody>\n",
       "    <tr>\n",
       "      <th>0</th>\n",
       "      <td>0</td>\n",
       "      <td>0</td>\n",
       "      <td>0</td>\n",
       "      <td>0</td>\n",
       "      <td>0</td>\n",
       "      <td>0</td>\n",
       "      <td>0</td>\n",
       "      <td>0</td>\n",
       "      <td>0</td>\n",
       "      <td>0</td>\n",
       "      <td>...</td>\n",
       "      <td>0</td>\n",
       "      <td>0</td>\n",
       "      <td>0</td>\n",
       "      <td>0</td>\n",
       "      <td>0</td>\n",
       "      <td>0</td>\n",
       "      <td>0</td>\n",
       "      <td>0</td>\n",
       "      <td>0</td>\n",
       "      <td>0</td>\n",
       "    </tr>\n",
       "    <tr>\n",
       "      <th>1</th>\n",
       "      <td>0</td>\n",
       "      <td>0</td>\n",
       "      <td>0</td>\n",
       "      <td>0</td>\n",
       "      <td>0</td>\n",
       "      <td>0</td>\n",
       "      <td>0</td>\n",
       "      <td>0</td>\n",
       "      <td>0</td>\n",
       "      <td>0</td>\n",
       "      <td>...</td>\n",
       "      <td>0</td>\n",
       "      <td>0</td>\n",
       "      <td>0</td>\n",
       "      <td>0</td>\n",
       "      <td>0</td>\n",
       "      <td>0</td>\n",
       "      <td>0</td>\n",
       "      <td>0</td>\n",
       "      <td>0</td>\n",
       "      <td>0</td>\n",
       "    </tr>\n",
       "    <tr>\n",
       "      <th>2</th>\n",
       "      <td>0</td>\n",
       "      <td>0</td>\n",
       "      <td>0</td>\n",
       "      <td>0</td>\n",
       "      <td>0</td>\n",
       "      <td>0</td>\n",
       "      <td>0</td>\n",
       "      <td>0</td>\n",
       "      <td>0</td>\n",
       "      <td>0</td>\n",
       "      <td>...</td>\n",
       "      <td>0</td>\n",
       "      <td>0</td>\n",
       "      <td>0</td>\n",
       "      <td>0</td>\n",
       "      <td>0</td>\n",
       "      <td>0</td>\n",
       "      <td>0</td>\n",
       "      <td>0</td>\n",
       "      <td>0</td>\n",
       "      <td>0</td>\n",
       "    </tr>\n",
       "  </tbody>\n",
       "</table>\n",
       "<p>3 rows × 760 columns</p>\n",
       "</div>"
      ],
      "text/plain": [
       "   1st Block BEL Layout  1st Block HBR Layout  1st Block HRBR Layout  \\\n",
       "0                     0                     0                      0   \n",
       "1                     0                     0                      0   \n",
       "2                     0                     0                      0   \n",
       "\n",
       "   1st Block Jayanagar  1st Block Koramangala  1st Phase JP Nagar  \\\n",
       "0                    0                      0                   0   \n",
       "1                    0                      0                   0   \n",
       "2                    0                      0                   0   \n",
       "\n",
       "   1st Stage Indira Nagar  2nd Block Hrbr Layout  2nd Block Jayanagar  \\\n",
       "0                       0                      0                    0   \n",
       "1                       0                      0                    0   \n",
       "2                       0                      0                    0   \n",
       "\n",
       "   2nd Phase JP Nagar  ...  Yelahanka  Yelahanka New Town  Yelenahalli  \\\n",
       "0                   0  ...          0                   0            0   \n",
       "1                   0  ...          0                   0            0   \n",
       "2                   0  ...          0                   0            0   \n",
       "\n",
       "   Yemlur  Yeshwanthpur  Yeshwanthpur Industrial Suburb  frazertown  \\\n",
       "0       0             0                               0           0   \n",
       "1       0             0                               0           0   \n",
       "2       0             0                               0           0   \n",
       "\n",
       "   manyata park  south  tc.palya  \n",
       "0             0      0         0  \n",
       "1             0      0         0  \n",
       "2             0      0         0  \n",
       "\n",
       "[3 rows x 760 columns]"
      ]
     },
     "execution_count": 71,
     "metadata": {},
     "output_type": "execute_result"
    }
   ],
   "source": [
    "dummies = pd.get_dummies(df10.location,dtype=int)\n",
    "dummies.head(3)"
   ]
  },
  {
   "cell_type": "code",
   "execution_count": 73,
   "id": "526d2f2e-728e-4cd8-872b-d84bf5577b88",
   "metadata": {},
   "outputs": [
    {
     "name": "stdout",
     "output_type": "stream",
     "text": [
      "Index(['1st Block BEL Layout', '1st Block HBR Layout', '1st Block HRBR Layout',\n",
      "       '1st Block Jayanagar', '1st Block Koramangala', '1st Phase JP Nagar',\n",
      "       '1st Stage Indira Nagar', '2nd Block Hrbr Layout',\n",
      "       '2nd Block Jayanagar', '2nd Phase JP Nagar',\n",
      "       ...\n",
      "       'Yelahanka', 'Yelahanka New Town', 'Yelenahalli', 'Yemlur',\n",
      "       'Yeshwanthpur', 'Yeshwanthpur Industrial Suburb', 'frazertown',\n",
      "       'manyata park', 'south', 'tc.palya'],\n",
      "      dtype='object', length=760)\n"
     ]
    }
   ],
   "source": [
    "print(dummies.columns) "
   ]
  },
  {
   "cell_type": "code",
   "execution_count": 74,
   "id": "f2cfa66a-1bb4-404d-b881-517fb6cc6ef5",
   "metadata": {},
   "outputs": [
    {
     "name": "stdout",
     "output_type": "stream",
     "text": [
      "False\n"
     ]
    }
   ],
   "source": [
    "print('other' in dummies.columns)"
   ]
  },
  {
   "cell_type": "code",
   "execution_count": 75,
   "id": "5863b8b6-88e8-4157-a2c9-6eb63de38360",
   "metadata": {},
   "outputs": [
    {
     "data": {
      "text/html": [
       "<div>\n",
       "<style scoped>\n",
       "    .dataframe tbody tr th:only-of-type {\n",
       "        vertical-align: middle;\n",
       "    }\n",
       "\n",
       "    .dataframe tbody tr th {\n",
       "        vertical-align: top;\n",
       "    }\n",
       "\n",
       "    .dataframe thead th {\n",
       "        text-align: right;\n",
       "    }\n",
       "</style>\n",
       "<table border=\"1\" class=\"dataframe\">\n",
       "  <thead>\n",
       "    <tr style=\"text-align: right;\">\n",
       "      <th></th>\n",
       "      <th>total_sqft</th>\n",
       "      <th>bath</th>\n",
       "      <th>price</th>\n",
       "      <th>bhk</th>\n",
       "    </tr>\n",
       "  </thead>\n",
       "  <tbody>\n",
       "    <tr>\n",
       "      <th>0</th>\n",
       "      <td>1672.0</td>\n",
       "      <td>3.0</td>\n",
       "      <td>150.0</td>\n",
       "      <td>3</td>\n",
       "    </tr>\n",
       "    <tr>\n",
       "      <th>1</th>\n",
       "      <td>1750.0</td>\n",
       "      <td>3.0</td>\n",
       "      <td>149.0</td>\n",
       "      <td>3</td>\n",
       "    </tr>\n",
       "  </tbody>\n",
       "</table>\n",
       "</div>"
      ],
      "text/plain": [
       "   total_sqft  bath  price  bhk\n",
       "0      1672.0   3.0  150.0    3\n",
       "1      1750.0   3.0  149.0    3"
      ]
     },
     "execution_count": 75,
     "metadata": {},
     "output_type": "execute_result"
    }
   ],
   "source": [
    "df11 = df10.drop('location',axis='columns')\n",
    "df11.head(2)"
   ]
  },
  {
   "cell_type": "code",
   "execution_count": 95,
   "id": "3d214f06-6c8b-4fbb-8c5a-3d793c9cd572",
   "metadata": {},
   "outputs": [
    {
     "name": "stdout",
     "output_type": "stream",
     "text": [
      "\n",
      "X_base DataFrame head (numerical features):\n",
      "   total_sqft  bath  bhk\n",
      "0      1672.0   3.0    3\n",
      "1      1750.0   3.0    3\n",
      "2      1750.0   3.0    3\n",
      "4      1250.0   2.0    2\n",
      "5      1200.0   2.0    2\n"
     ]
    }
   ],
   "source": [
    "X_base = df11[['total_sqft', 'bath', 'bhk']]\n",
    "\n",
    "print(\"\\nX_base DataFrame head (numerical features):\")\n",
    "print(X_base.head())"
   ]
  },
  {
   "cell_type": "code",
   "execution_count": 138,
   "id": "aef89979-f57e-42cb-8868-489d054749d2",
   "metadata": {},
   "outputs": [
    {
     "name": "stdout",
     "output_type": "stream",
     "text": [
      "\n",
      "Final X DataFrame head (all features including locations):\n",
      "   total_sqft  bath  bhk  1st Block BEL Layout  1st Block HBR Layout  \\\n",
      "0      1672.0   3.0    3                     0                     0   \n",
      "1      1750.0   3.0    3                     0                     0   \n",
      "2      1750.0   3.0    3                     0                     0   \n",
      "4      1250.0   2.0    2                     0                     0   \n",
      "5      1200.0   2.0    2                     0                     0   \n",
      "\n",
      "   1st Block HRBR Layout  1st Block Jayanagar  1st Block Koramangala  \\\n",
      "0                      0                    0                      0   \n",
      "1                      0                    0                      0   \n",
      "2                      0                    0                      0   \n",
      "4                      0                    0                      0   \n",
      "5                      0                    0                      0   \n",
      "\n",
      "   1st Phase JP Nagar  1st Stage Indira Nagar  ...  Yelahanka  \\\n",
      "0                   0                       0  ...          0   \n",
      "1                   0                       0  ...          0   \n",
      "2                   0                       0  ...          0   \n",
      "4                   0                       0  ...          0   \n",
      "5                   0                       0  ...          0   \n",
      "\n",
      "   Yelahanka New Town  Yelenahalli  Yemlur  Yeshwanthpur  \\\n",
      "0                   0            0       0             0   \n",
      "1                   0            0       0             0   \n",
      "2                   0            0       0             0   \n",
      "4                   0            0       0             0   \n",
      "5                   0            0       0             0   \n",
      "\n",
      "   Yeshwanthpur Industrial Suburb  frazertown  manyata park  south  tc.palya  \n",
      "0                               0           0             0      0         0  \n",
      "1                               0           0             0      0         0  \n",
      "2                               0           0             0      0         0  \n",
      "4                               0           0             0      0         0  \n",
      "5                               0           0             0      0         0  \n",
      "\n",
      "[5 rows x 763 columns]\n",
      "\n",
      "Final X DataFrame columns:\n",
      "Index(['total_sqft', 'bath', 'bhk', '1st Block BEL Layout',\n",
      "       '1st Block HBR Layout', '1st Block HRBR Layout', '1st Block Jayanagar',\n",
      "       '1st Block Koramangala', '1st Phase JP Nagar', '1st Stage Indira Nagar',\n",
      "       ...\n",
      "       'Yelahanka', 'Yelahanka New Town', 'Yelenahalli', 'Yemlur',\n",
      "       'Yeshwanthpur', 'Yeshwanthpur Industrial Suburb', 'frazertown',\n",
      "       'manyata park', 'south', 'tc.palya'],\n",
      "      dtype='object', length=763)\n"
     ]
    }
   ],
   "source": [
    "X = pd.concat([X_base, dummies], axis='columns')\n",
    "\n",
    "# Define your target variable 'y' (assuming 'price' is your target)\n",
    "y = df11.price # Or whatever your price column is named\n",
    "\n",
    "print(\"\\nFinal X DataFrame head (all features including locations):\")\n",
    "print(X.head())\n",
    "print(\"\\nFinal X DataFrame columns:\")\n",
    "print(X.columns)"
   ]
  },
  {
   "cell_type": "code",
   "execution_count": 139,
   "id": "c5f122b0-4105-42fe-b15e-2cb4de9caea7",
   "metadata": {},
   "outputs": [
    {
     "name": "stdout",
     "output_type": "stream",
     "text": [
      "Index(['total_sqft', 'bath', 'bhk', '1st Block BEL Layout',\n",
      "       '1st Block HBR Layout', '1st Block HRBR Layout', '1st Block Jayanagar',\n",
      "       '1st Block Koramangala', '1st Phase JP Nagar', '1st Stage Indira Nagar',\n",
      "       ...\n",
      "       'Yelahanka', 'Yelahanka New Town', 'Yelenahalli', 'Yemlur',\n",
      "       'Yeshwanthpur', 'Yeshwanthpur Industrial Suburb', 'frazertown',\n",
      "       'manyata park', 'south', 'tc.palya'],\n",
      "      dtype='object', length=763)\n"
     ]
    }
   ],
   "source": [
    "print(X.columns)"
   ]
  },
  {
   "cell_type": "code",
   "execution_count": 119,
   "id": "403bcf10-6d10-41b6-b2a8-9d1a11bb963b",
   "metadata": {},
   "outputs": [
    {
     "name": "stdout",
     "output_type": "stream",
     "text": [
      "0    150.0\n",
      "1    149.0\n",
      "2    150.0\n",
      "4     40.0\n",
      "5     83.0\n",
      "Name: price, dtype: float64\n"
     ]
    }
   ],
   "source": [
    "print(y.head())"
   ]
  },
  {
   "cell_type": "markdown",
   "id": "35d5db3a-f503-48a3-a737-11b2059600c8",
   "metadata": {},
   "source": [
    "<h1 style=\"font-size: 25px;\">Building a Model Now</h1>"
   ]
  },
  {
   "cell_type": "code",
   "execution_count": 141,
   "id": "2633424d-74a0-407a-aca5-3646695b383f",
   "metadata": {},
   "outputs": [
    {
     "data": {
      "text/plain": [
       "(7429, 4)"
      ]
     },
     "execution_count": 141,
     "metadata": {},
     "output_type": "execute_result"
    }
   ],
   "source": [
    "df11.shape"
   ]
  },
  {
   "cell_type": "code",
   "execution_count": 140,
   "id": "546f1803-c31f-41e9-b286-42940dcf6204",
   "metadata": {},
   "outputs": [
    {
     "data": {
      "text/plain": [
       "(7429, 763)"
      ]
     },
     "execution_count": 140,
     "metadata": {},
     "output_type": "execute_result"
    }
   ],
   "source": [
    "X.shape"
   ]
  },
  {
   "cell_type": "code",
   "execution_count": 142,
   "id": "d46a5d2c-06a6-4d1a-9069-a898e0aa1eb7",
   "metadata": {},
   "outputs": [
    {
     "data": {
      "text/plain": [
       "0    150.0\n",
       "1    149.0\n",
       "2    150.0\n",
       "Name: price, dtype: float64"
      ]
     },
     "execution_count": 142,
     "metadata": {},
     "output_type": "execute_result"
    }
   ],
   "source": [
    "y = df11.price\n",
    "y.head(3)"
   ]
  },
  {
   "cell_type": "code",
   "execution_count": 124,
   "id": "1d4a3dc0-4791-4d10-97d2-e4ce8ec24c9b",
   "metadata": {},
   "outputs": [
    {
     "data": {
      "text/plain": [
       "7429"
      ]
     },
     "execution_count": 124,
     "metadata": {},
     "output_type": "execute_result"
    }
   ],
   "source": [
    "len(y)"
   ]
  },
  {
   "cell_type": "code",
   "execution_count": 125,
   "id": "d560df97-e5ce-4054-8ee9-4f12d7ab3e61",
   "metadata": {},
   "outputs": [
    {
     "name": "stdout",
     "output_type": "stream",
     "text": [
      "Requirement already satisfied: scikit-learn in c:\\users\\manvi\\appdata\\local\\programs\\python\\python313\\lib\\site-packages (1.7.1)\n",
      "Requirement already satisfied: numpy>=1.22.0 in c:\\users\\manvi\\appdata\\local\\programs\\python\\python313\\lib\\site-packages (from scikit-learn) (2.2.4)\n",
      "Requirement already satisfied: scipy>=1.8.0 in c:\\users\\manvi\\appdata\\local\\programs\\python\\python313\\lib\\site-packages (from scikit-learn) (1.16.0)\n",
      "Requirement already satisfied: joblib>=1.2.0 in c:\\users\\manvi\\appdata\\local\\programs\\python\\python313\\lib\\site-packages (from scikit-learn) (1.5.1)\n",
      "Requirement already satisfied: threadpoolctl>=3.1.0 in c:\\users\\manvi\\appdata\\local\\programs\\python\\python313\\lib\\site-packages (from scikit-learn) (3.6.0)\n",
      "Note: you may need to restart the kernel to use updated packages.\n"
     ]
    },
    {
     "name": "stderr",
     "output_type": "stream",
     "text": [
      "\n",
      "[notice] A new release of pip is available: 25.0.1 -> 25.1.1\n",
      "[notice] To update, run: python.exe -m pip install --upgrade pip\n"
     ]
    }
   ],
   "source": [
    "pip install scikit-learn"
   ]
  },
  {
   "cell_type": "code",
   "execution_count": 143,
   "id": "84896a98-d5d4-43f2-baf0-52497355df48",
   "metadata": {},
   "outputs": [],
   "source": [
    "from sklearn.model_selection import train_test_split\n",
    "X_train, X_test, y_train, y_test = train_test_split(X,y,test_size=0.2,random_state=10)"
   ]
  },
  {
   "cell_type": "code",
   "execution_count": 144,
   "id": "943b6733-46d0-4184-b995-81bb29180c8c",
   "metadata": {},
   "outputs": [
    {
     "data": {
      "text/plain": [
       "0.6638365610876178"
      ]
     },
     "execution_count": 144,
     "metadata": {},
     "output_type": "execute_result"
    }
   ],
   "source": [
    "from sklearn.linear_model import LinearRegression\n",
    "lr_clf = LinearRegression()\n",
    "lr_clf.fit(X_train,y_train)\n",
    "lr_clf.score(X_test,y_test)"
   ]
  },
  {
   "cell_type": "markdown",
   "id": "722a9387-d027-490f-af0b-708b508aae65",
   "metadata": {},
   "source": [
    "<h1 style=\"font-size: 25px;\">Use K Fold cross validation to measure accuracy of our LinearRegression model</h1>"
   ]
  },
  {
   "cell_type": "code",
   "execution_count": 145,
   "id": "8e227d0a-6f5a-4214-9f2e-c1452b4360a7",
   "metadata": {},
   "outputs": [
    {
     "data": {
      "text/plain": [
       "array([0.68634254, 0.6961796 , 0.72228743, 0.77652492, 0.69052709])"
      ]
     },
     "execution_count": 145,
     "metadata": {},
     "output_type": "execute_result"
    }
   ],
   "source": [
    "from sklearn.model_selection import ShuffleSplit\n",
    "from sklearn.model_selection import cross_val_score\n",
    "\n",
    "cv = ShuffleSplit(n_splits=5, test_size=0.2, random_state=0)\n",
    "\n",
    "cross_val_score(LinearRegression(), X, y, cv=cv)"
   ]
  },
  {
   "cell_type": "markdown",
   "id": "86fa3554-a92e-4abb-ac6d-2892bffc4dd0",
   "metadata": {},
   "source": [
    "We can see that in 5 iterations we get a score above 80% all the time. This is pretty good but we want to test few other algorithms for regression to see if we can get even better score. We will use GridSearchCV for this purpose"
   ]
  },
  {
   "cell_type": "markdown",
   "id": "50db6631-cd7c-40a0-948d-2fc56dfe6d1a",
   "metadata": {},
   "source": [
    "<h1 style=\"font-size: 25px;\">Finding best model using GridSearchCV</h1>"
   ]
  },
  {
   "cell_type": "code",
   "execution_count": 146,
   "id": "87edd66e-b7ac-430d-ad79-c43ea7d5efcb",
   "metadata": {},
   "outputs": [
    {
     "name": "stdout",
     "output_type": "stream",
     "text": [
      "Fitting linear_regression...\n",
      "Finished linear_regression.\n",
      "Fitting lasso...\n",
      "Finished lasso.\n",
      "Fitting decision_tree...\n",
      "Finished decision_tree.\n"
     ]
    },
    {
     "data": {
      "text/html": [
       "<div>\n",
       "<style scoped>\n",
       "    .dataframe tbody tr th:only-of-type {\n",
       "        vertical-align: middle;\n",
       "    }\n",
       "\n",
       "    .dataframe tbody tr th {\n",
       "        vertical-align: top;\n",
       "    }\n",
       "\n",
       "    .dataframe thead th {\n",
       "        text-align: right;\n",
       "    }\n",
       "</style>\n",
       "<table border=\"1\" class=\"dataframe\">\n",
       "  <thead>\n",
       "    <tr style=\"text-align: right;\">\n",
       "      <th></th>\n",
       "      <th>model</th>\n",
       "      <th>best_score</th>\n",
       "      <th>best_params</th>\n",
       "    </tr>\n",
       "  </thead>\n",
       "  <tbody>\n",
       "    <tr>\n",
       "      <th>0</th>\n",
       "      <td>linear_regression</td>\n",
       "      <td>0.715306</td>\n",
       "      <td>{'fit_intercept': False}</td>\n",
       "    </tr>\n",
       "    <tr>\n",
       "      <th>1</th>\n",
       "      <td>lasso</td>\n",
       "      <td>0.592030</td>\n",
       "      <td>{'alpha': 2, 'selection': 'cyclic'}</td>\n",
       "    </tr>\n",
       "    <tr>\n",
       "      <th>2</th>\n",
       "      <td>decision_tree</td>\n",
       "      <td>0.712495</td>\n",
       "      <td>{'criterion': 'poisson', 'splitter': 'best'}</td>\n",
       "    </tr>\n",
       "  </tbody>\n",
       "</table>\n",
       "</div>"
      ],
      "text/plain": [
       "               model  best_score                                   best_params\n",
       "0  linear_regression    0.715306                      {'fit_intercept': False}\n",
       "1              lasso    0.592030           {'alpha': 2, 'selection': 'cyclic'}\n",
       "2      decision_tree    0.712495  {'criterion': 'poisson', 'splitter': 'best'}"
      ]
     },
     "execution_count": 146,
     "metadata": {},
     "output_type": "execute_result"
    }
   ],
   "source": [
    "import pandas as pd\n",
    "from sklearn.model_selection import GridSearchCV, ShuffleSplit, train_test_split\n",
    "from sklearn.linear_model import LinearRegression, Lasso\n",
    "from sklearn.tree import DecisionTreeRegressor\n",
    "from sklearn.preprocessing import StandardScaler # Import StandardScaler for potential future use\n",
    "\n",
    "# Assuming X and y are already defined from your previous steps\n",
    "# For demonstration, let's create dummy X and y\n",
    "# import numpy as np\n",
    "# X = pd.DataFrame(np.random.rand(100, 10))\n",
    "# y = pd.Series(np.random.rand(100))\n",
    "\n",
    "def find_best_model_using_gridsearchcv(X, y):\n",
    "    algos = {\n",
    "        'linear_regression' : {\n",
    "            'model': LinearRegression(),\n",
    "            'params': {\n",
    "                'fit_intercept': [True, False] # Example of a valid parameter\n",
    "            }\n",
    "        },\n",
    "        'lasso': {\n",
    "            'model': Lasso(),\n",
    "            'params': {\n",
    "                'alpha': [1, 2],\n",
    "                'selection': ['random', 'cyclic']\n",
    "            }\n",
    "        },\n",
    "        'decision_tree': {\n",
    "            'model': DecisionTreeRegressor(),\n",
    "            'params': {\n",
    "                # Updated deprecated criterion values to their modern equivalents\n",
    "                'criterion' : ['squared_error', 'friedman_mse', 'absolute_error', 'poisson'], # 'mse' is now 'squared_error'\n",
    "                'splitter': ['best', 'random']\n",
    "            }\n",
    "        }\n",
    "    }\n",
    "    scores = []\n",
    "    cv = ShuffleSplit(n_splits=5, test_size=0.2, random_state=0)\n",
    "\n",
    "    for algo_name, config in algos.items():\n",
    "        print(f\"Fitting {algo_name}...\")\n",
    "        gs = GridSearchCV(config['model'], config['params'], cv=cv, return_train_score=False, n_jobs=-1) # Added n_jobs=-1 for faster computation\n",
    "        gs.fit(X, y)\n",
    "        scores.append({\n",
    "            'model': algo_name,\n",
    "            'best_score': gs.best_score_,\n",
    "            'best_params': gs.best_params_\n",
    "        })\n",
    "        print(f\"Finished {algo_name}.\")\n",
    "\n",
    "    return pd.DataFrame(scores, columns=['model', 'best_score', 'best_params'])\n",
    "\n",
    "# If you want to run it on the full X, y (as in your original code):\n",
    "find_best_model_using_gridsearchcv(X, y)"
   ]
  },
  {
   "cell_type": "code",
   "execution_count": 148,
   "id": "008ea5c5-882e-4cc7-b0d8-e21f0130bce5",
   "metadata": {},
   "outputs": [
    {
     "name": "stdout",
     "output_type": "stream",
     "text": [
      "   1st Block BEL Layout  1st Block HBR Layout  1st Block HRBR Layout  \\\n",
      "0                     0                     0                      0   \n",
      "1                     0                     0                      0   \n",
      "2                     0                     0                      0   \n",
      "4                     0                     0                      0   \n",
      "5                     0                     0                      0   \n",
      "\n",
      "   1st Block Jayanagar  1st Block Koramangala  1st Phase JP Nagar  \\\n",
      "0                    0                      0                   0   \n",
      "1                    0                      0                   0   \n",
      "2                    0                      0                   0   \n",
      "4                    0                      0                   0   \n",
      "5                    0                      0                   0   \n",
      "\n",
      "   1st Stage Indira Nagar  2nd Block Hrbr Layout  2nd Block Jayanagar  \\\n",
      "0                       0                      0                    0   \n",
      "1                       0                      0                    0   \n",
      "2                       0                      0                    0   \n",
      "4                       0                      0                    0   \n",
      "5                       0                      0                    0   \n",
      "\n",
      "   2nd Phase JP Nagar  ...  Yelahanka  Yelahanka New Town  Yelenahalli  \\\n",
      "0                   0  ...          0                   0            0   \n",
      "1                   0  ...          0                   0            0   \n",
      "2                   0  ...          0                   0            0   \n",
      "4                   0  ...          0                   0            0   \n",
      "5                   0  ...          0                   0            0   \n",
      "\n",
      "   Yemlur  Yeshwanthpur  Yeshwanthpur Industrial Suburb  frazertown  \\\n",
      "0       0             0                               0           0   \n",
      "1       0             0                               0           0   \n",
      "2       0             0                               0           0   \n",
      "4       0             0                               0           0   \n",
      "5       0             0                               0           0   \n",
      "\n",
      "   manyata park  south  tc.palya  \n",
      "0             0      0         0  \n",
      "1             0      0         0  \n",
      "2             0      0         0  \n",
      "4             0      0         0  \n",
      "5             0      0         0  \n",
      "\n",
      "[5 rows x 760 columns]\n"
     ]
    }
   ],
   "source": [
    "print(dummies.head())"
   ]
  },
  {
   "cell_type": "code",
   "execution_count": 147,
   "id": "b53623e9-9664-4d14-96ee-149bdf7063e3",
   "metadata": {},
   "outputs": [
    {
     "name": "stdout",
     "output_type": "stream",
     "text": [
      "Index(['1st Block BEL Layout', '1st Block HBR Layout', '1st Block HRBR Layout',\n",
      "       '1st Block Jayanagar', '1st Block Koramangala', '1st Phase JP Nagar',\n",
      "       '1st Stage Indira Nagar', '2nd Block Hrbr Layout',\n",
      "       '2nd Block Jayanagar', '2nd Phase JP Nagar',\n",
      "       ...\n",
      "       'Yelahanka', 'Yelahanka New Town', 'Yelenahalli', 'Yemlur',\n",
      "       'Yeshwanthpur', 'Yeshwanthpur Industrial Suburb', 'frazertown',\n",
      "       'manyata park', 'south', 'tc.palya'],\n",
      "      dtype='object', length=760)\n"
     ]
    }
   ],
   "source": [
    "print(dummies.columns)"
   ]
  },
  {
   "cell_type": "markdown",
   "id": "6afb5918-68a0-4fb7-95f0-9b07e1017ee5",
   "metadata": {},
   "source": [
    "<h1 style=\"font-size: 25px;\">Test the model for few properties</h1>"
   ]
  },
  {
   "cell_type": "code",
   "execution_count": 149,
   "id": "f71a3eac-993c-40cc-baef-a20ce23ffaa9",
   "metadata": {},
   "outputs": [
    {
     "name": "stdout",
     "output_type": "stream",
     "text": [
      "Index(['total_sqft', 'bath', 'bhk', '1st Block BEL Layout',\n",
      "       '1st Block HBR Layout', '1st Block HRBR Layout', '1st Block Jayanagar',\n",
      "       '1st Block Koramangala', '1st Phase JP Nagar', '1st Stage Indira Nagar',\n",
      "       ...\n",
      "       'Yelahanka', 'Yelahanka New Town', 'Yelenahalli', 'Yemlur',\n",
      "       'Yeshwanthpur', 'Yeshwanthpur Industrial Suburb', 'frazertown',\n",
      "       'manyata park', 'south', 'tc.palya'],\n",
      "      dtype='object', length=763)\n"
     ]
    }
   ],
   "source": [
    "print(X.columns)"
   ]
  },
  {
   "cell_type": "code",
   "execution_count": 150,
   "id": "80065546-9f4e-4f64-805d-ed2c447a9488",
   "metadata": {},
   "outputs": [],
   "source": [
    "def predict_price(location, sqft, bath, bhk):\n",
    "    try:\n",
    "        loc_index = np.where(X.columns == location)[0][0]\n",
    "    except IndexError:\n",
    "        print(f\"Warning: Location '{location}' not found in model's features.\")\n",
    "        print(\"Available locations in model:\", [col for col in X.columns if col not in ['total_sqft', 'bath', 'bhk']])\n",
    "        loc_index = -1\n",
    "\n",
    "    x_array = np.zeros(len(X.columns)) # Renamed to x_array to avoid confusion\n",
    "    x_array[0] = sqft\n",
    "    x_array[1] = bath\n",
    "    x_array[2] = bhk\n",
    "\n",
    "    if loc_index != -1:\n",
    "        x_array[loc_index] = 1\n",
    "\n",
    "    x_df = pd.DataFrame([x_array], columns=X.columns)\n",
    "\n",
    "    return lr_clf.predict(x_df)[0] # Pass the DataFrame to predict"
   ]
  },
  {
   "cell_type": "code",
   "execution_count": 151,
   "id": "f6c7974b-0213-4906-bf45-16529e55598d",
   "metadata": {},
   "outputs": [
    {
     "data": {
      "text/plain": [
       "np.float64(83.70818334651635)"
      ]
     },
     "execution_count": 151,
     "metadata": {},
     "output_type": "execute_result"
    }
   ],
   "source": [
    "predict_price('1st Phase JP Nagar',1000, 2, 2)"
   ]
  },
  {
   "cell_type": "code",
   "execution_count": 152,
   "id": "5797ced0-5841-4e47-ab6f-4dbcc2a3d4c4",
   "metadata": {},
   "outputs": [
    {
     "data": {
      "text/plain": [
       "np.float64(83.13443976019198)"
      ]
     },
     "execution_count": 152,
     "metadata": {},
     "output_type": "execute_result"
    }
   ],
   "source": [
    "predict_price('1st Phase JP Nagar',1000, 3, 3)"
   ]
  },
  {
   "cell_type": "code",
   "execution_count": 153,
   "id": "05498db3-69e8-4b40-ba9f-0caf81300e1d",
   "metadata": {},
   "outputs": [
    {
     "data": {
      "text/plain": [
       "np.float64(183.17110105971727)"
      ]
     },
     "execution_count": 153,
     "metadata": {},
     "output_type": "execute_result"
    }
   ],
   "source": [
    "predict_price('Indira Nagar',1000, 2, 2)"
   ]
  },
  {
   "cell_type": "code",
   "execution_count": 154,
   "id": "79a84875-9b5f-4aca-88c5-bf7173f668a3",
   "metadata": {},
   "outputs": [
    {
     "data": {
      "text/plain": [
       "np.float64(182.5973574733929)"
      ]
     },
     "execution_count": 154,
     "metadata": {},
     "output_type": "execute_result"
    }
   ],
   "source": [
    "predict_price('Indira Nagar',1000, 3, 3)"
   ]
  },
  {
   "cell_type": "code",
   "execution_count": null,
   "id": "fc68e678-e950-4489-a88b-5a982b77fe4d",
   "metadata": {},
   "outputs": [],
   "source": []
  }
 ],
 "metadata": {
  "kernelspec": {
   "display_name": "Python 3 (ipykernel)",
   "language": "python",
   "name": "python3"
  },
  "language_info": {
   "codemirror_mode": {
    "name": "ipython",
    "version": 3
   },
   "file_extension": ".py",
   "mimetype": "text/x-python",
   "name": "python",
   "nbconvert_exporter": "python",
   "pygments_lexer": "ipython3",
   "version": "3.13.2"
  }
 },
 "nbformat": 4,
 "nbformat_minor": 5
}
